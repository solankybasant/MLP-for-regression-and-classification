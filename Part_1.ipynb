{
  "cells": [
    {
      "cell_type": "markdown",
      "metadata": {
        "id": "view-in-github",
        "colab_type": "text"
      },
      "source": [
        "<a href=\"https://colab.research.google.com/github/solankybasant/MLP-for-regression-and-classification/blob/main/Part_1.ipynb\" target=\"_parent\"><img src=\"https://colab.research.google.com/assets/colab-badge.svg\" alt=\"Open In Colab\"/></a>"
      ]
    },
    {
      "cell_type": "markdown",
      "metadata": {
        "id": "NzzbOJ5jXmQI"
      },
      "source": [
        "# ML Assignment 3"
      ]
    },
    {
      "cell_type": "markdown",
      "metadata": {
        "id": "eguHiYsKYqMP"
      },
      "source": [
        "* Name:Basant Solanky\n",
        "* Roll Number:12040430\n",
        "* References Used to Complete the Assignment\n",
        "    * a."
      ]
    },
    {
      "cell_type": "markdown",
      "metadata": {
        "id": "Ei0jKD3yX9hu"
      },
      "source": [
        "## Part A [Taxi Fare Prediction Using Neural Network]"
      ]
    },
    {
      "cell_type": "code",
      "execution_count": null,
      "metadata": {
        "id": "-oIHeM8rXk6Z"
      },
      "outputs": [],
      "source": [
        "!pip install -q kaggle"
      ]
    },
    {
      "cell_type": "code",
      "execution_count": null,
      "metadata": {
        "colab": {
          "base_uri": "https://localhost:8080/",
          "height": 108
        },
        "id": "1U5ZYYdsY54j",
        "outputId": "491dbe72-d7e5-42d7-99bf-f6aa43bac61a"
      },
      "outputs": [
        {
          "data": {
            "text/html": [
              "\n",
              "     <input type=\"file\" id=\"files-8f22b4e6-dd19-485f-8f35-9f283cd2fc5a\" name=\"files[]\" multiple disabled\n",
              "        style=\"border:none\" />\n",
              "     <output id=\"result-8f22b4e6-dd19-485f-8f35-9f283cd2fc5a\">\n",
              "      Upload widget is only available when the cell has been executed in the\n",
              "      current browser session. Please rerun this cell to enable.\n",
              "      </output>\n",
              "      <script>// Copyright 2017 Google LLC\n",
              "//\n",
              "// Licensed under the Apache License, Version 2.0 (the \"License\");\n",
              "// you may not use this file except in compliance with the License.\n",
              "// You may obtain a copy of the License at\n",
              "//\n",
              "//      http://www.apache.org/licenses/LICENSE-2.0\n",
              "//\n",
              "// Unless required by applicable law or agreed to in writing, software\n",
              "// distributed under the License is distributed on an \"AS IS\" BASIS,\n",
              "// WITHOUT WARRANTIES OR CONDITIONS OF ANY KIND, either express or implied.\n",
              "// See the License for the specific language governing permissions and\n",
              "// limitations under the License.\n",
              "\n",
              "/**\n",
              " * @fileoverview Helpers for google.colab Python module.\n",
              " */\n",
              "(function(scope) {\n",
              "function span(text, styleAttributes = {}) {\n",
              "  const element = document.createElement('span');\n",
              "  element.textContent = text;\n",
              "  for (const key of Object.keys(styleAttributes)) {\n",
              "    element.style[key] = styleAttributes[key];\n",
              "  }\n",
              "  return element;\n",
              "}\n",
              "\n",
              "// Max number of bytes which will be uploaded at a time.\n",
              "const MAX_PAYLOAD_SIZE = 100 * 1024;\n",
              "\n",
              "function _uploadFiles(inputId, outputId) {\n",
              "  const steps = uploadFilesStep(inputId, outputId);\n",
              "  const outputElement = document.getElementById(outputId);\n",
              "  // Cache steps on the outputElement to make it available for the next call\n",
              "  // to uploadFilesContinue from Python.\n",
              "  outputElement.steps = steps;\n",
              "\n",
              "  return _uploadFilesContinue(outputId);\n",
              "}\n",
              "\n",
              "// This is roughly an async generator (not supported in the browser yet),\n",
              "// where there are multiple asynchronous steps and the Python side is going\n",
              "// to poll for completion of each step.\n",
              "// This uses a Promise to block the python side on completion of each step,\n",
              "// then passes the result of the previous step as the input to the next step.\n",
              "function _uploadFilesContinue(outputId) {\n",
              "  const outputElement = document.getElementById(outputId);\n",
              "  const steps = outputElement.steps;\n",
              "\n",
              "  const next = steps.next(outputElement.lastPromiseValue);\n",
              "  return Promise.resolve(next.value.promise).then((value) => {\n",
              "    // Cache the last promise value to make it available to the next\n",
              "    // step of the generator.\n",
              "    outputElement.lastPromiseValue = value;\n",
              "    return next.value.response;\n",
              "  });\n",
              "}\n",
              "\n",
              "/**\n",
              " * Generator function which is called between each async step of the upload\n",
              " * process.\n",
              " * @param {string} inputId Element ID of the input file picker element.\n",
              " * @param {string} outputId Element ID of the output display.\n",
              " * @return {!Iterable<!Object>} Iterable of next steps.\n",
              " */\n",
              "function* uploadFilesStep(inputId, outputId) {\n",
              "  const inputElement = document.getElementById(inputId);\n",
              "  inputElement.disabled = false;\n",
              "\n",
              "  const outputElement = document.getElementById(outputId);\n",
              "  outputElement.innerHTML = '';\n",
              "\n",
              "  const pickedPromise = new Promise((resolve) => {\n",
              "    inputElement.addEventListener('change', (e) => {\n",
              "      resolve(e.target.files);\n",
              "    });\n",
              "  });\n",
              "\n",
              "  const cancel = document.createElement('button');\n",
              "  inputElement.parentElement.appendChild(cancel);\n",
              "  cancel.textContent = 'Cancel upload';\n",
              "  const cancelPromise = new Promise((resolve) => {\n",
              "    cancel.onclick = () => {\n",
              "      resolve(null);\n",
              "    };\n",
              "  });\n",
              "\n",
              "  // Wait for the user to pick the files.\n",
              "  const files = yield {\n",
              "    promise: Promise.race([pickedPromise, cancelPromise]),\n",
              "    response: {\n",
              "      action: 'starting',\n",
              "    }\n",
              "  };\n",
              "\n",
              "  cancel.remove();\n",
              "\n",
              "  // Disable the input element since further picks are not allowed.\n",
              "  inputElement.disabled = true;\n",
              "\n",
              "  if (!files) {\n",
              "    return {\n",
              "      response: {\n",
              "        action: 'complete',\n",
              "      }\n",
              "    };\n",
              "  }\n",
              "\n",
              "  for (const file of files) {\n",
              "    const li = document.createElement('li');\n",
              "    li.append(span(file.name, {fontWeight: 'bold'}));\n",
              "    li.append(span(\n",
              "        `(${file.type || 'n/a'}) - ${file.size} bytes, ` +\n",
              "        `last modified: ${\n",
              "            file.lastModifiedDate ? file.lastModifiedDate.toLocaleDateString() :\n",
              "                                    'n/a'} - `));\n",
              "    const percent = span('0% done');\n",
              "    li.appendChild(percent);\n",
              "\n",
              "    outputElement.appendChild(li);\n",
              "\n",
              "    const fileDataPromise = new Promise((resolve) => {\n",
              "      const reader = new FileReader();\n",
              "      reader.onload = (e) => {\n",
              "        resolve(e.target.result);\n",
              "      };\n",
              "      reader.readAsArrayBuffer(file);\n",
              "    });\n",
              "    // Wait for the data to be ready.\n",
              "    let fileData = yield {\n",
              "      promise: fileDataPromise,\n",
              "      response: {\n",
              "        action: 'continue',\n",
              "      }\n",
              "    };\n",
              "\n",
              "    // Use a chunked sending to avoid message size limits. See b/62115660.\n",
              "    let position = 0;\n",
              "    do {\n",
              "      const length = Math.min(fileData.byteLength - position, MAX_PAYLOAD_SIZE);\n",
              "      const chunk = new Uint8Array(fileData, position, length);\n",
              "      position += length;\n",
              "\n",
              "      const base64 = btoa(String.fromCharCode.apply(null, chunk));\n",
              "      yield {\n",
              "        response: {\n",
              "          action: 'append',\n",
              "          file: file.name,\n",
              "          data: base64,\n",
              "        },\n",
              "      };\n",
              "\n",
              "      let percentDone = fileData.byteLength === 0 ?\n",
              "          100 :\n",
              "          Math.round((position / fileData.byteLength) * 100);\n",
              "      percent.textContent = `${percentDone}% done`;\n",
              "\n",
              "    } while (position < fileData.byteLength);\n",
              "  }\n",
              "\n",
              "  // All done.\n",
              "  yield {\n",
              "    response: {\n",
              "      action: 'complete',\n",
              "    }\n",
              "  };\n",
              "}\n",
              "\n",
              "scope.google = scope.google || {};\n",
              "scope.google.colab = scope.google.colab || {};\n",
              "scope.google.colab._files = {\n",
              "  _uploadFiles,\n",
              "  _uploadFilesContinue,\n",
              "};\n",
              "})(self);\n",
              "</script> "
            ],
            "text/plain": [
              "<IPython.core.display.HTML object>"
            ]
          },
          "metadata": {},
          "output_type": "display_data"
        },
        {
          "name": "stdout",
          "output_type": "stream",
          "text": [
            "Saving kaggle.json to kaggle.json\n"
          ]
        },
        {
          "data": {
            "text/plain": [
              "{'kaggle.json': b'{\"username\":\"basantsolanky\",\"key\":\"8f76a92067ba34cdef14278d540d561d\"}'}"
            ]
          },
          "execution_count": 2,
          "metadata": {},
          "output_type": "execute_result"
        }
      ],
      "source": [
        "from google.colab import files\n",
        "files.upload()"
      ]
    },
    {
      "cell_type": "code",
      "execution_count": null,
      "metadata": {
        "id": "tTqvoM7QY-9E"
      },
      "outputs": [],
      "source": [
        "!mkdir ~/.kaggle\n",
        "!cp kaggle.json ~/.kaggle/\n",
        "!chmod 600 ~/.kaggle/kaggle.json"
      ]
    },
    {
      "cell_type": "code",
      "execution_count": null,
      "metadata": {
        "colab": {
          "base_uri": "https://localhost:8080/"
        },
        "id": "q4NGht0YZCf1",
        "outputId": "32aa5549-f627-444c-cd46-7dab6ada7282"
      },
      "outputs": [
        {
          "name": "stdout",
          "output_type": "stream",
          "text": [
            "Downloading new-york-city-taxi-fare-prediction.zip to /content\n",
            " 99% 1.55G/1.56G [00:06<00:00, 253MB/s]\n",
            "100% 1.56G/1.56G [00:06<00:00, 257MB/s]\n"
          ]
        }
      ],
      "source": [
        "!kaggle competitions download -c new-york-city-taxi-fare-prediction"
      ]
    },
    {
      "cell_type": "code",
      "execution_count": null,
      "metadata": {
        "colab": {
          "base_uri": "https://localhost:8080/"
        },
        "id": "VUi0ZScUZDQ3",
        "outputId": "1a684da0-7b71-4d22-92c9-153a49425406"
      },
      "outputs": [
        {
          "name": "stdout",
          "output_type": "stream",
          "text": [
            "Archive:  new-york-city-taxi-fare-prediction.zip\n",
            "  inflating: GCP-Coupons-Instructions.rtf  \n",
            "  inflating: sample_submission.csv   \n",
            "  inflating: test.csv                \n",
            "  inflating: train.csv               \n"
          ]
        }
      ],
      "source": [
        "!unzip new-york-city-taxi-fare-prediction"
      ]
    },
    {
      "cell_type": "code",
      "source": [],
      "metadata": {
        "id": "GKaTFCcbGK3l"
      },
      "execution_count": null,
      "outputs": []
    },
    {
      "cell_type": "code",
      "execution_count": null,
      "metadata": {
        "id": "RNFt-X9yZGZe"
      },
      "outputs": [],
      "source": [
        "import numpy as np \n",
        "import pandas as pd \n",
        "import seaborn as sns\n",
        "import matplotlib.pyplot as plt"
      ]
    },
    {
      "cell_type": "code",
      "execution_count": null,
      "metadata": {
        "id": "VGZIT1COZKuc"
      },
      "outputs": [],
      "source": [
        "train = pd.read_csv(\"/content/train.csv\", nrows = 1000000)\n",
        "test = pd.read_csv(\"/content/test.csv\")"
      ]
    },
    {
      "cell_type": "code",
      "execution_count": null,
      "metadata": {
        "colab": {
          "base_uri": "https://localhost:8080/"
        },
        "id": "dYuKpUqSZY6S",
        "outputId": "cc451270-a29d-4e8c-c319-9d0e41f7b170"
      },
      "outputs": [
        {
          "name": "stdout",
          "output_type": "stream",
          "text": [
            "<class 'pandas.core.frame.DataFrame'>\n",
            "RangeIndex: 100000 entries, 0 to 99999\n",
            "Data columns (total 8 columns):\n",
            " #   Column             Non-Null Count   Dtype  \n",
            "---  ------             --------------   -----  \n",
            " 0   key                100000 non-null  object \n",
            " 1   fare_amount        100000 non-null  float64\n",
            " 2   pickup_datetime    100000 non-null  object \n",
            " 3   pickup_longitude   100000 non-null  float64\n",
            " 4   pickup_latitude    100000 non-null  float64\n",
            " 5   dropoff_longitude  100000 non-null  float64\n",
            " 6   dropoff_latitude   100000 non-null  float64\n",
            " 7   passenger_count    100000 non-null  int64  \n",
            "dtypes: float64(5), int64(1), object(2)\n",
            "memory usage: 6.1+ MB\n"
          ]
        }
      ],
      "source": [
        "train.info()"
      ]
    },
    {
      "cell_type": "markdown",
      "metadata": {
        "id": "VlBslp-2ZtGT"
      },
      "source": [
        "#pipeline"
      ]
    },
    {
      "cell_type": "code",
      "execution_count": null,
      "metadata": {
        "id": "QaFsVYBFZaOC"
      },
      "outputs": [],
      "source": [
        "# remove NULL values and outliers\n",
        "from sklearn.base import BaseEstimator, TransformerMixin\n",
        "from sklearn.impute import SimpleImputer\n",
        "from sklearn.preprocessing import StandardScaler\n",
        "Scaler=StandardScaler()\n",
        "class remove_missing_values(BaseEstimator, TransformerMixin):\n",
        "    \n",
        "    def __init__(self):\n",
        "        pass\n",
        "\n",
        "    def fit(self, X, y=None):\n",
        "        return self\n",
        "    \n",
        "    def transform(self, X):\n",
        "        X = X.drop(X[X.isnull().any(1)].index, axis = 0)\n",
        "        return X\n",
        "\n",
        "class remove_irrelevant_values(BaseEstimator, TransformerMixin):\n",
        "    \n",
        "    def __init__(self, isFareAmount = True,\n",
        "                 isPassengerCount = True,\n",
        "                 isLatitudes = True,\n",
        "                 isLongitudes = True):\n",
        "        self.isFareAmount = isFareAmount\n",
        "        self.isPassengerCount = isPassengerCount\n",
        "        self.isLatitudes = isLatitudes\n",
        "        self.isLongitudes = isLongitudes\n",
        "\n",
        "    def fit(self, X, y=None):\n",
        "        return self\n",
        "    \n",
        "    def transform(self, X):\n",
        "        \n",
        "        if self.isFareAmount and 'fare_amount' in list(X.columns):\n",
        "            X = X.drop(X[X['fare_amount']<=0].index, axis=0)\n",
        "            \n",
        "        if self.isPassengerCount:\n",
        "            X = X.drop(X[X['passenger_count']<=0].index, axis=0)\n",
        "            X = X.drop(X[X['passenger_count']>=7].index, axis=0)\n",
        "        \n",
        "        if self.isLatitudes:\n",
        "            X = X.drop(X[X['pickup_latitude']<-90].index, axis=0)\n",
        "            X = X.drop(X[X['pickup_latitude']>90].index, axis=0)\n",
        "\n",
        "            X = X.drop(X[X['dropoff_latitude']<-90].index, axis=0)\n",
        "            X = X.drop(X[X['dropoff_latitude']>90].index, axis=0)\n",
        "        \n",
        "        if self.isLongitudes:\n",
        "            X = X.drop(X[X['pickup_longitude']<-180].index, axis=0)\n",
        "            X = X.drop(X[X['pickup_longitude']>180].index, axis=0)\n",
        "\n",
        "            X = X.drop(X[X['dropoff_longitude']<-180].index, axis=0)\n",
        "            X = X.drop(X[X['dropoff_longitude']>180].index, axis=0)\n",
        "        \n",
        "        return X\n",
        "\n",
        "class remove_outside_bb(BaseEstimator, TransformerMixin):\n",
        "    \n",
        "    def __init__(self, bb = (-74.5, -72.8, 40.5, 41.8)):\n",
        "        self.bb = bb\n",
        "    \n",
        "    def fit(self, X, y=None):\n",
        "        return self\n",
        "    \n",
        "    def transform(self, X):\n",
        "        self.outlier_index = X.loc[(X['pickup_longitude'] < self.bb[0]) | (X['pickup_longitude'] > self.bb[1]) | \\\n",
        "           (X['pickup_latitude'] < self.bb[2]) | (X['pickup_latitude'] > self.bb[3]) | \\\n",
        "           (X['dropoff_longitude'] < self.bb[0]) | (X['dropoff_longitude'] > self.bb[1]) | \\\n",
        "           (X['dropoff_latitude'] < self.bb[2]) | (X['dropoff_latitude'] > self.bb[3])].index\n",
        "        X = X.drop(self.outlier_index, axis=0)\n",
        "        return X\n",
        "class fix_datetime_data_types(BaseEstimator, TransformerMixin):\n",
        "    \n",
        "    def __init__(self, cols = ['pickup_datetime', 'key']):\n",
        "        self.cols = cols\n",
        "\n",
        "    def fit(self, X, y=None):\n",
        "        return self\n",
        "    \n",
        "    def transform(self, X):\n",
        "        for col in self.cols:\n",
        "            X[col] = pd.to_datetime(X[col])\n",
        "        return X\n",
        "\n",
        "\n",
        "class remove_outliers(BaseEstimator, TransformerMixin):\n",
        "    # Taking which column to modify as \"col\" parameter\n",
        "    def __init__(self):\n",
        "        pass\n",
        "    \n",
        "    def haversine_distance(self,lat1, long1, lat2, long2,train):\n",
        "        data = [train]\n",
        "        for i in data:\n",
        "            R = 6371  #radius of earth in kilometers\n",
        "            phi1 = np.radians(i[lat1])\n",
        "            phi2 = np.radians(i[lat2])\n",
        "          \n",
        "            delta_phi = np.radians(i[lat2]-i[lat1])\n",
        "            delta_lambda = np.radians(i[long2]-i[long1])\n",
        "          \n",
        "            #a = sin²((φB - φA)/2) + cos φA . cos φB . sin²((λB - λA)/2)\n",
        "            a = np.sin(delta_phi / 2.0) ** 2 + np.cos(phi1) * np.cos(phi2) * np.sin(delta_lambda / 2.0) ** 2\n",
        "          \n",
        "            #c = 2 * atan2( √a, √(1−a) )\n",
        "            c = 2 * np.arctan2(np.sqrt(a), np.sqrt(1-a))\n",
        "          \n",
        "            #d = R*c\n",
        "            d = (R * c) #in kilometers\n",
        "            i['H_Distance'] = d\n",
        "        return d\n",
        "\n",
        "    def fit(self,traina, y=None):\n",
        "        self.H_Distance=self.haversine_distance('pickup_latitude', 'pickup_longitude', 'dropoff_latitude', 'dropoff_longitude',train)\n",
        "        return self\n",
        "    \n",
        "    # remove all NaN values \n",
        "    def transform(self,train):\n",
        "        train['H_Distance']=self.H_Distance\n",
        "        train['key'] = pd.to_datetime(train['key'])\n",
        "        train['pickup_datetime']  = pd.to_datetime(train['pickup_datetime'])\n",
        "        train = train.drop(train[train.isnull().any(1)].index, axis = 0)\n",
        "        train = train.drop(train[train['fare_amount']<=0].index, axis=0)\n",
        "        train = train.drop(train.loc[train['passenger_count']>6 ].index, axis = 0)\n",
        "        train = train.drop(train.loc[train['passenger_count']<=0 ].index, axis = 0)\n",
        "        train = train.drop(((train[train['pickup_latitude']<39.5])).index, axis=0)\n",
        "        train = train.drop(((train[train['pickup_latitude']>41.5])).index, axis=0)\n",
        "        train = train.drop(((train[train['dropoff_latitude']<39.5])).index, axis=0)\n",
        "        train = train.drop(((train[train['dropoff_latitude']>41.5])).index, axis=0)\n",
        "        train= train.drop(((train[train['pickup_longitude']<-74.5])).index, axis=0)\n",
        "        train = train.drop(((train[train['pickup_longitude']>-73])).index, axis=0)\n",
        "        train = train.drop(((train[train['dropoff_longitude']<-74.5])).index, axis=0)\n",
        "        train = train.drop(((train[train['dropoff_longitude']>-73])).index, axis=0)\n",
        "        train = train.drop(train.loc[(train['H_Distance']==0) & (train['fare_amount']>2.5)].index, axis=0)\n",
        "        train = train.drop(((train[train['H_Distance']>130])).index, axis=0)\n",
        "        return train\n",
        "\n",
        "\n",
        "class remove_add_col(BaseEstimator, TransformerMixin):\n",
        "    def __init__(self, col1,col2,col3):\n",
        "        self.col1 = col1\n",
        "        self.col2 = col2\n",
        "        self.col3 = col3\n",
        "    def fit(self,X, y=None):\n",
        "        # self.median = X[self.col].median()\n",
        "        return self\n",
        "\n",
        "    def transform(self,X):\n",
        "        # add columns\n",
        "        data = [X]\n",
        "        for i in data:\n",
        "            i['Year'] = i['pickup_datetime'].dt.year\n",
        "            i['Month'] = i['pickup_datetime'].dt.month\n",
        "            i['Date'] = i['pickup_datetime'].dt.day\n",
        "            i['Day of Week'] = i['pickup_datetime'].dt.dayofweek\n",
        "            i['Hour'] = i['pickup_datetime'].dt.hour\n",
        "        # remove non-numerical columns\n",
        "        X.drop([self.col1,self.col2,self.col3],axis=1,inplace=True)\n",
        "        return X"
      ]
    },
    {
      "cell_type": "code",
      "execution_count": null,
      "metadata": {
        "colab": {
          "base_uri": "https://localhost:8080/",
          "height": 488
        },
        "id": "pqkWGSHOgXJY",
        "outputId": "8cc895f4-916f-4299-fa8e-caf8e06d4d15"
      },
      "outputs": [
        {
          "data": {
            "text/html": [
              "\n",
              "  <div id=\"df-9c7317c5-4897-4130-8d4a-cb213f781d31\">\n",
              "    <div class=\"colab-df-container\">\n",
              "      <div>\n",
              "<style scoped>\n",
              "    .dataframe tbody tr th:only-of-type {\n",
              "        vertical-align: middle;\n",
              "    }\n",
              "\n",
              "    .dataframe tbody tr th {\n",
              "        vertical-align: top;\n",
              "    }\n",
              "\n",
              "    .dataframe thead th {\n",
              "        text-align: right;\n",
              "    }\n",
              "</style>\n",
              "<table border=\"1\" class=\"dataframe\">\n",
              "  <thead>\n",
              "    <tr style=\"text-align: right;\">\n",
              "      <th></th>\n",
              "      <th>0</th>\n",
              "      <th>1</th>\n",
              "      <th>2</th>\n",
              "      <th>3</th>\n",
              "      <th>4</th>\n",
              "      <th>5</th>\n",
              "      <th>6</th>\n",
              "      <th>7</th>\n",
              "      <th>8</th>\n",
              "      <th>9</th>\n",
              "      <th>10</th>\n",
              "    </tr>\n",
              "  </thead>\n",
              "  <tbody>\n",
              "    <tr>\n",
              "      <th>0</th>\n",
              "      <td>3.580347</td>\n",
              "      <td>-1.057476</td>\n",
              "      <td>3.732680</td>\n",
              "      <td>-1.245074</td>\n",
              "      <td>-0.524043</td>\n",
              "      <td>-0.613505</td>\n",
              "      <td>-1.467419</td>\n",
              "      <td>-0.077106</td>\n",
              "      <td>-0.076260</td>\n",
              "      <td>-1.558517</td>\n",
              "      <td>0.539043</td>\n",
              "    </tr>\n",
              "    <tr>\n",
              "      <th>1</th>\n",
              "      <td>-1.113011</td>\n",
              "      <td>-1.413349</td>\n",
              "      <td>-0.141250</td>\n",
              "      <td>0.968800</td>\n",
              "      <td>-0.524043</td>\n",
              "      <td>1.328233</td>\n",
              "      <td>-0.933541</td>\n",
              "      <td>-1.525632</td>\n",
              "      <td>-1.228760</td>\n",
              "      <td>-1.045502</td>\n",
              "      <td>0.385322</td>\n",
              "    </tr>\n",
              "    <tr>\n",
              "      <th>2</th>\n",
              "      <td>-0.202690</td>\n",
              "      <td>0.362003</td>\n",
              "      <td>-0.478218</td>\n",
              "      <td>-0.029517</td>\n",
              "      <td>0.245918</td>\n",
              "      <td>-0.519613</td>\n",
              "      <td>-0.399662</td>\n",
              "      <td>0.502305</td>\n",
              "      <td>0.269490</td>\n",
              "      <td>-0.019471</td>\n",
              "      <td>-2.074213</td>\n",
              "    </tr>\n",
              "    <tr>\n",
              "      <th>3</th>\n",
              "      <td>-0.322718</td>\n",
              "      <td>-0.637363</td>\n",
              "      <td>-0.487364</td>\n",
              "      <td>0.209569</td>\n",
              "      <td>-0.524043</td>\n",
              "      <td>-0.150666</td>\n",
              "      <td>0.134216</td>\n",
              "      <td>-0.656517</td>\n",
              "      <td>0.615240</td>\n",
              "      <td>1.006560</td>\n",
              "      <td>-1.459330</td>\n",
              "    </tr>\n",
              "    <tr>\n",
              "      <th>4</th>\n",
              "      <td>0.197485</td>\n",
              "      <td>0.601407</td>\n",
              "      <td>0.495118</td>\n",
              "      <td>1.024618</td>\n",
              "      <td>-0.524043</td>\n",
              "      <td>-0.360065</td>\n",
              "      <td>-0.933541</td>\n",
              "      <td>-0.946222</td>\n",
              "      <td>-0.767760</td>\n",
              "      <td>-1.045502</td>\n",
              "      <td>-0.998167</td>\n",
              "    </tr>\n",
              "    <tr>\n",
              "      <th>...</th>\n",
              "      <td>...</td>\n",
              "      <td>...</td>\n",
              "      <td>...</td>\n",
              "      <td>...</td>\n",
              "      <td>...</td>\n",
              "      <td>...</td>\n",
              "      <td>...</td>\n",
              "      <td>...</td>\n",
              "      <td>...</td>\n",
              "      <td>...</td>\n",
              "      <td>...</td>\n",
              "    </tr>\n",
              "    <tr>\n",
              "      <th>96507</th>\n",
              "      <td>0.747285</td>\n",
              "      <td>1.197751</td>\n",
              "      <td>0.281045</td>\n",
              "      <td>1.297201</td>\n",
              "      <td>2.555803</td>\n",
              "      <td>-0.462457</td>\n",
              "      <td>0.668095</td>\n",
              "      <td>0.792010</td>\n",
              "      <td>0.960991</td>\n",
              "      <td>-1.045502</td>\n",
              "      <td>-0.998167</td>\n",
              "    </tr>\n",
              "    <tr>\n",
              "      <th>96508</th>\n",
              "      <td>0.338966</td>\n",
              "      <td>1.706370</td>\n",
              "      <td>0.001992</td>\n",
              "      <td>1.111140</td>\n",
              "      <td>-0.524043</td>\n",
              "      <td>-0.440077</td>\n",
              "      <td>1.201974</td>\n",
              "      <td>-0.366811</td>\n",
              "      <td>-0.076260</td>\n",
              "      <td>-0.019471</td>\n",
              "      <td>-0.229562</td>\n",
              "    </tr>\n",
              "    <tr>\n",
              "      <th>96509</th>\n",
              "      <td>-0.586243</td>\n",
              "      <td>-0.978247</td>\n",
              "      <td>-0.498815</td>\n",
              "      <td>-0.849906</td>\n",
              "      <td>-0.524043</td>\n",
              "      <td>-0.772046</td>\n",
              "      <td>1.735852</td>\n",
              "      <td>-1.235927</td>\n",
              "      <td>0.384740</td>\n",
              "      <td>-0.019471</td>\n",
              "      <td>0.539043</td>\n",
              "    </tr>\n",
              "    <tr>\n",
              "      <th>96510</th>\n",
              "      <td>-0.227668</td>\n",
              "      <td>0.198456</td>\n",
              "      <td>-0.238254</td>\n",
              "      <td>0.494534</td>\n",
              "      <td>1.785842</td>\n",
              "      <td>-0.579914</td>\n",
              "      <td>-1.467419</td>\n",
              "      <td>1.081715</td>\n",
              "      <td>-0.652510</td>\n",
              "      <td>1.006560</td>\n",
              "      <td>1.461368</td>\n",
              "    </tr>\n",
              "    <tr>\n",
              "      <th>96511</th>\n",
              "      <td>-0.009339</td>\n",
              "      <td>1.441526</td>\n",
              "      <td>-0.225647</td>\n",
              "      <td>0.745399</td>\n",
              "      <td>-0.524043</td>\n",
              "      <td>-0.376381</td>\n",
              "      <td>-0.933541</td>\n",
              "      <td>1.371420</td>\n",
              "      <td>-0.767760</td>\n",
              "      <td>-1.045502</td>\n",
              "      <td>0.385322</td>\n",
              "    </tr>\n",
              "  </tbody>\n",
              "</table>\n",
              "<p>96512 rows × 11 columns</p>\n",
              "</div>\n",
              "      <button class=\"colab-df-convert\" onclick=\"convertToInteractive('df-9c7317c5-4897-4130-8d4a-cb213f781d31')\"\n",
              "              title=\"Convert this dataframe to an interactive table.\"\n",
              "              style=\"display:none;\">\n",
              "        \n",
              "  <svg xmlns=\"http://www.w3.org/2000/svg\" height=\"24px\"viewBox=\"0 0 24 24\"\n",
              "       width=\"24px\">\n",
              "    <path d=\"M0 0h24v24H0V0z\" fill=\"none\"/>\n",
              "    <path d=\"M18.56 5.44l.94 2.06.94-2.06 2.06-.94-2.06-.94-.94-2.06-.94 2.06-2.06.94zm-11 1L8.5 8.5l.94-2.06 2.06-.94-2.06-.94L8.5 2.5l-.94 2.06-2.06.94zm10 10l.94 2.06.94-2.06 2.06-.94-2.06-.94-.94-2.06-.94 2.06-2.06.94z\"/><path d=\"M17.41 7.96l-1.37-1.37c-.4-.4-.92-.59-1.43-.59-.52 0-1.04.2-1.43.59L10.3 9.45l-7.72 7.72c-.78.78-.78 2.05 0 2.83L4 21.41c.39.39.9.59 1.41.59.51 0 1.02-.2 1.41-.59l7.78-7.78 2.81-2.81c.8-.78.8-2.07 0-2.86zM5.41 20L4 18.59l7.72-7.72 1.47 1.35L5.41 20z\"/>\n",
              "  </svg>\n",
              "      </button>\n",
              "      \n",
              "  <style>\n",
              "    .colab-df-container {\n",
              "      display:flex;\n",
              "      flex-wrap:wrap;\n",
              "      gap: 12px;\n",
              "    }\n",
              "\n",
              "    .colab-df-convert {\n",
              "      background-color: #E8F0FE;\n",
              "      border: none;\n",
              "      border-radius: 50%;\n",
              "      cursor: pointer;\n",
              "      display: none;\n",
              "      fill: #1967D2;\n",
              "      height: 32px;\n",
              "      padding: 0 0 0 0;\n",
              "      width: 32px;\n",
              "    }\n",
              "\n",
              "    .colab-df-convert:hover {\n",
              "      background-color: #E2EBFA;\n",
              "      box-shadow: 0px 1px 2px rgba(60, 64, 67, 0.3), 0px 1px 3px 1px rgba(60, 64, 67, 0.15);\n",
              "      fill: #174EA6;\n",
              "    }\n",
              "\n",
              "    [theme=dark] .colab-df-convert {\n",
              "      background-color: #3B4455;\n",
              "      fill: #D2E3FC;\n",
              "    }\n",
              "\n",
              "    [theme=dark] .colab-df-convert:hover {\n",
              "      background-color: #434B5C;\n",
              "      box-shadow: 0px 1px 3px 1px rgba(0, 0, 0, 0.15);\n",
              "      filter: drop-shadow(0px 1px 2px rgba(0, 0, 0, 0.3));\n",
              "      fill: #FFFFFF;\n",
              "    }\n",
              "  </style>\n",
              "\n",
              "      <script>\n",
              "        const buttonEl =\n",
              "          document.querySelector('#df-9c7317c5-4897-4130-8d4a-cb213f781d31 button.colab-df-convert');\n",
              "        buttonEl.style.display =\n",
              "          google.colab.kernel.accessAllowed ? 'block' : 'none';\n",
              "\n",
              "        async function convertToInteractive(key) {\n",
              "          const element = document.querySelector('#df-9c7317c5-4897-4130-8d4a-cb213f781d31');\n",
              "          const dataTable =\n",
              "            await google.colab.kernel.invokeFunction('convertToInteractive',\n",
              "                                                     [key], {});\n",
              "          if (!dataTable) return;\n",
              "\n",
              "          const docLinkHtml = 'Like what you see? Visit the ' +\n",
              "            '<a target=\"_blank\" href=https://colab.research.google.com/notebooks/data_table.ipynb>data table notebook</a>'\n",
              "            + ' to learn more about interactive tables.';\n",
              "          element.innerHTML = '';\n",
              "          dataTable['output_type'] = 'display_data';\n",
              "          await google.colab.output.renderOutput(dataTable, element);\n",
              "          const docLink = document.createElement('div');\n",
              "          docLink.innerHTML = docLinkHtml;\n",
              "          element.appendChild(docLink);\n",
              "        }\n",
              "      </script>\n",
              "    </div>\n",
              "  </div>\n",
              "  "
            ],
            "text/plain": [
              "             0         1         2         3         4         5         6   \\\n",
              "0      3.580347 -1.057476  3.732680 -1.245074 -0.524043 -0.613505 -1.467419   \n",
              "1     -1.113011 -1.413349 -0.141250  0.968800 -0.524043  1.328233 -0.933541   \n",
              "2     -0.202690  0.362003 -0.478218 -0.029517  0.245918 -0.519613 -0.399662   \n",
              "3     -0.322718 -0.637363 -0.487364  0.209569 -0.524043 -0.150666  0.134216   \n",
              "4      0.197485  0.601407  0.495118  1.024618 -0.524043 -0.360065 -0.933541   \n",
              "...         ...       ...       ...       ...       ...       ...       ...   \n",
              "96507  0.747285  1.197751  0.281045  1.297201  2.555803 -0.462457  0.668095   \n",
              "96508  0.338966  1.706370  0.001992  1.111140 -0.524043 -0.440077  1.201974   \n",
              "96509 -0.586243 -0.978247 -0.498815 -0.849906 -0.524043 -0.772046  1.735852   \n",
              "96510 -0.227668  0.198456 -0.238254  0.494534  1.785842 -0.579914 -1.467419   \n",
              "96511 -0.009339  1.441526 -0.225647  0.745399 -0.524043 -0.376381 -0.933541   \n",
              "\n",
              "             7         8         9         10  \n",
              "0     -0.077106 -0.076260 -1.558517  0.539043  \n",
              "1     -1.525632 -1.228760 -1.045502  0.385322  \n",
              "2      0.502305  0.269490 -0.019471 -2.074213  \n",
              "3     -0.656517  0.615240  1.006560 -1.459330  \n",
              "4     -0.946222 -0.767760 -1.045502 -0.998167  \n",
              "...         ...       ...       ...       ...  \n",
              "96507  0.792010  0.960991 -1.045502 -0.998167  \n",
              "96508 -0.366811 -0.076260 -0.019471 -0.229562  \n",
              "96509 -1.235927  0.384740 -0.019471  0.539043  \n",
              "96510  1.081715 -0.652510  1.006560  1.461368  \n",
              "96511  1.371420 -0.767760 -1.045502  0.385322  \n",
              "\n",
              "[96512 rows x 11 columns]"
            ]
          },
          "execution_count": 10,
          "metadata": {},
          "output_type": "execute_result"
        }
      ],
      "source": [
        "from sklearn.pipeline import Pipeline\n",
        "from sklearn.preprocessing import StandardScaler\n",
        "pipeline_1 = Pipeline([\n",
        "    ('remove missing values', remove_missing_values()),\n",
        "    ('remove irrelevant values', remove_irrelevant_values()),\n",
        "    ('remove outside NYC', remove_outside_bb()),\n",
        "    ('fix datetime data types', fix_datetime_data_types()),\n",
        "    ('fillna', remove_outliers())\n",
        "\n",
        "])\n",
        "pipeline_2= Pipeline([\n",
        "    ('attribs_adder', remove_add_col('fare_amount', 'key', 'pickup_datetime')),\n",
        "    ('Standard_scaling', StandardScaler())\n",
        "])\n",
        "train_scaled= pipeline_1.fit_transform(train)\n",
        "labels=train_scaled['fare_amount']\n",
        "train_scaled=pipeline_2.fit_transform(train_scaled)\n",
        "train_scaled=pd.DataFrame(train_scaled)\n",
        "train_scaled"
      ]
    },
    {
      "cell_type": "code",
      "execution_count": null,
      "metadata": {
        "id": "ojNGRvcOqsbF"
      },
      "outputs": [],
      "source": [
        "import tensorflow\n",
        "from tensorflow import keras \n",
        "from keras import Sequential\n",
        "from keras.layers import Dense\n",
        "# from keras.optimizers import adam\n",
        "from keras.layers import Dropout\n",
        "from keras.metrics import MeanAbsoluteError,MeanAbsolutePercentageError,MeanSquaredError"
      ]
    },
    {
      "cell_type": "markdown",
      "metadata": {
        "id": "lR-PlLRqOQZK"
      },
      "source": [
        "## Create a baseline Neural network with the following specifications.\n",
        "2 hidden layers, each with 16 and 8 neurons respectively. Sigmoid activation, Batch Size=128 for Gradient Descent."
      ]
    },
    {
      "cell_type": "code",
      "execution_count": null,
      "metadata": {
        "id": "UBK1EMnPruhq"
      },
      "outputs": [],
      "source": [
        "model = Sequential()\n",
        "model.add(Dense(16,input_dim=11, activation = 'sigmoid',))\n",
        "model.add(Dense(8,activation='sigmoid'))\n",
        "model.add(Dense(1,activation='linear'))"
      ]
    },
    {
      "cell_type": "code",
      "execution_count": null,
      "metadata": {
        "colab": {
          "base_uri": "https://localhost:8080/"
        },
        "id": "47gSkbC-tdZD",
        "outputId": "2f3dbd80-35ca-40c5-a3e7-5cf433aef4db"
      },
      "outputs": [
        {
          "name": "stdout",
          "output_type": "stream",
          "text": [
            "Model: \"sequential\"\n",
            "_________________________________________________________________\n",
            " Layer (type)                Output Shape              Param #   \n",
            "=================================================================\n",
            " dense (Dense)               (None, 16)                192       \n",
            "                                                                 \n",
            " dense_1 (Dense)             (None, 8)                 136       \n",
            "                                                                 \n",
            " dense_2 (Dense)             (None, 1)                 9         \n",
            "                                                                 \n",
            "=================================================================\n",
            "Total params: 337\n",
            "Trainable params: 337\n",
            "Non-trainable params: 0\n",
            "_________________________________________________________________\n"
          ]
        }
      ],
      "source": [
        "model.summary()"
      ]
    },
    {
      "cell_type": "code",
      "execution_count": null,
      "metadata": {
        "id": "wpBeYO_LT-Rk"
      },
      "outputs": [],
      "source": [
        "from sklearn.model_selection import train_test_split\n",
        "X_train,X_test,y_train,y_test=train_test_split(train_scaled,labels,test_size=0.2,random_state=42)"
      ]
    },
    {
      "cell_type": "code",
      "execution_count": null,
      "metadata": {
        "colab": {
          "base_uri": "https://localhost:8080/"
        },
        "id": "g5Nmmt-rLAMf",
        "outputId": "dab6ccbc-534a-4aba-aad3-7f1b373fa574"
      },
      "outputs": [
        {
          "name": "stdout",
          "output_type": "stream",
          "text": [
            "Epoch 1/25\n",
            "754/754 [==============================] - 6s 4ms/step - loss: 7.8792 - mean_squared_error: 155.2775 - mean_absolute_error: 7.8792 - mean_absolute_percentage_error: 58.3722 - val_loss: 5.9365 - val_mean_squared_error: 120.8833 - val_mean_absolute_error: 5.9365 - val_mean_absolute_percentage_error: 39.9227\n",
            "Epoch 2/25\n",
            "754/754 [==============================] - 3s 4ms/step - loss: 5.4688 - mean_squared_error: 108.2496 - mean_absolute_error: 5.4688 - mean_absolute_percentage_error: 39.6730 - val_loss: 5.1307 - val_mean_squared_error: 100.2484 - val_mean_absolute_error: 5.1307 - val_mean_absolute_percentage_error: 38.9317\n",
            "Epoch 3/25\n",
            "754/754 [==============================] - 3s 4ms/step - loss: 4.5026 - mean_squared_error: 89.0140 - mean_absolute_error: 4.5026 - mean_absolute_percentage_error: 31.5487 - val_loss: 3.9048 - val_mean_squared_error: 79.3508 - val_mean_absolute_error: 3.9048 - val_mean_absolute_percentage_error: 24.8242\n",
            "Epoch 4/25\n",
            "754/754 [==============================] - 3s 4ms/step - loss: 3.6373 - mean_squared_error: 71.8708 - mean_absolute_error: 3.6373 - mean_absolute_percentage_error: 23.1976 - val_loss: 3.4877 - val_mean_squared_error: 67.2582 - val_mean_absolute_error: 3.4877 - val_mean_absolute_percentage_error: 22.9971\n",
            "Epoch 5/25\n",
            "754/754 [==============================] - 3s 4ms/step - loss: 3.3468 - mean_squared_error: 62.4626 - mean_absolute_error: 3.3468 - mean_absolute_percentage_error: 22.3759 - val_loss: 3.2514 - val_mean_squared_error: 59.4126 - val_mean_absolute_error: 3.2514 - val_mean_absolute_percentage_error: 22.3772\n",
            "Epoch 6/25\n",
            "754/754 [==============================] - 3s 4ms/step - loss: 3.1257 - mean_squared_error: 55.4179 - mean_absolute_error: 3.1257 - mean_absolute_percentage_error: 21.5770 - val_loss: 3.0347 - val_mean_squared_error: 52.7713 - val_mean_absolute_error: 3.0347 - val_mean_absolute_percentage_error: 21.1372\n",
            "Epoch 7/25\n",
            "754/754 [==============================] - 4s 5ms/step - loss: 2.9164 - mean_squared_error: 48.9118 - mean_absolute_error: 2.9164 - mean_absolute_percentage_error: 20.6070 - val_loss: 2.8380 - val_mean_squared_error: 46.2633 - val_mean_absolute_error: 2.8380 - val_mean_absolute_percentage_error: 20.4622\n",
            "Epoch 8/25\n",
            "754/754 [==============================] - 3s 4ms/step - loss: 2.7436 - mean_squared_error: 43.1235 - mean_absolute_error: 2.7436 - mean_absolute_percentage_error: 19.9518 - val_loss: 2.6842 - val_mean_squared_error: 40.9682 - val_mean_absolute_error: 2.6842 - val_mean_absolute_percentage_error: 20.0447\n",
            "Epoch 9/25\n",
            "754/754 [==============================] - 3s 4ms/step - loss: 2.6098 - mean_squared_error: 38.2989 - mean_absolute_error: 2.6098 - mean_absolute_percentage_error: 19.6567 - val_loss: 2.5653 - val_mean_squared_error: 36.6342 - val_mean_absolute_error: 2.5653 - val_mean_absolute_percentage_error: 19.7305\n",
            "Epoch 10/25\n",
            "754/754 [==============================] - 3s 4ms/step - loss: 2.5040 - mean_squared_error: 34.4782 - mean_absolute_error: 2.5040 - mean_absolute_percentage_error: 19.4639 - val_loss: 2.4697 - val_mean_squared_error: 33.0759 - val_mean_absolute_error: 2.4697 - val_mean_absolute_percentage_error: 19.6870\n",
            "Epoch 11/25\n",
            "754/754 [==============================] - 3s 4ms/step - loss: 2.4219 - mean_squared_error: 31.4260 - mean_absolute_error: 2.4219 - mean_absolute_percentage_error: 19.3595 - val_loss: 2.3972 - val_mean_squared_error: 30.5647 - val_mean_absolute_error: 2.3972 - val_mean_absolute_percentage_error: 19.4598\n",
            "Epoch 12/25\n",
            "754/754 [==============================] - 3s 4ms/step - loss: 2.3568 - mean_squared_error: 29.1133 - mean_absolute_error: 2.3568 - mean_absolute_percentage_error: 19.2675 - val_loss: 2.3384 - val_mean_squared_error: 28.4130 - val_mean_absolute_error: 2.3384 - val_mean_absolute_percentage_error: 19.5006\n",
            "Epoch 13/25\n",
            "754/754 [==============================] - 3s 4ms/step - loss: 2.3044 - mean_squared_error: 27.3543 - mean_absolute_error: 2.3044 - mean_absolute_percentage_error: 19.1691 - val_loss: 2.2921 - val_mean_squared_error: 26.9799 - val_mean_absolute_error: 2.2921 - val_mean_absolute_percentage_error: 19.3054\n",
            "Epoch 14/25\n",
            "754/754 [==============================] - 3s 4ms/step - loss: 2.2614 - mean_squared_error: 25.9690 - mean_absolute_error: 2.2614 - mean_absolute_percentage_error: 19.0692 - val_loss: 2.2513 - val_mean_squared_error: 25.7015 - val_mean_absolute_error: 2.2513 - val_mean_absolute_percentage_error: 19.2333\n",
            "Epoch 15/25\n",
            "754/754 [==============================] - 3s 4ms/step - loss: 2.2238 - mean_squared_error: 24.8682 - mean_absolute_error: 2.2238 - mean_absolute_percentage_error: 18.9515 - val_loss: 2.2145 - val_mean_squared_error: 24.6006 - val_mean_absolute_error: 2.2145 - val_mean_absolute_percentage_error: 19.1791\n",
            "Epoch 16/25\n",
            "754/754 [==============================] - 3s 4ms/step - loss: 2.1887 - mean_squared_error: 23.9198 - mean_absolute_error: 2.1887 - mean_absolute_percentage_error: 18.8429 - val_loss: 2.1806 - val_mean_squared_error: 23.6725 - val_mean_absolute_error: 2.1806 - val_mean_absolute_percentage_error: 19.1853\n",
            "Epoch 17/25\n",
            "754/754 [==============================] - 3s 4ms/step - loss: 2.1533 - mean_squared_error: 23.0369 - mean_absolute_error: 2.1533 - mean_absolute_percentage_error: 18.7301 - val_loss: 2.1451 - val_mean_squared_error: 22.8878 - val_mean_absolute_error: 2.1451 - val_mean_absolute_percentage_error: 18.8187\n",
            "Epoch 18/25\n",
            "754/754 [==============================] - 3s 4ms/step - loss: 2.1198 - mean_squared_error: 22.2754 - mean_absolute_error: 2.1198 - mean_absolute_percentage_error: 18.6352 - val_loss: 2.1108 - val_mean_squared_error: 22.0408 - val_mean_absolute_error: 2.1108 - val_mean_absolute_percentage_error: 18.8631\n",
            "Epoch 19/25\n",
            "754/754 [==============================] - 3s 4ms/step - loss: 2.0859 - mean_squared_error: 21.5983 - mean_absolute_error: 2.0859 - mean_absolute_percentage_error: 18.5223 - val_loss: 2.0760 - val_mean_squared_error: 21.5260 - val_mean_absolute_error: 2.0760 - val_mean_absolute_percentage_error: 18.6621\n",
            "Epoch 20/25\n",
            "754/754 [==============================] - 3s 4ms/step - loss: 2.0550 - mean_squared_error: 21.0217 - mean_absolute_error: 2.0550 - mean_absolute_percentage_error: 18.4280 - val_loss: 2.0477 - val_mean_squared_error: 20.9517 - val_mean_absolute_error: 2.0477 - val_mean_absolute_percentage_error: 18.6200\n",
            "Epoch 21/25\n",
            "754/754 [==============================] - 3s 4ms/step - loss: 2.0291 - mean_squared_error: 20.5787 - mean_absolute_error: 2.0291 - mean_absolute_percentage_error: 18.3360 - val_loss: 2.0227 - val_mean_squared_error: 20.5675 - val_mean_absolute_error: 2.0227 - val_mean_absolute_percentage_error: 18.4426\n",
            "Epoch 22/25\n",
            "754/754 [==============================] - 3s 4ms/step - loss: 2.0054 - mean_squared_error: 20.2099 - mean_absolute_error: 2.0054 - mean_absolute_percentage_error: 18.2538 - val_loss: 1.9988 - val_mean_squared_error: 20.1680 - val_mean_absolute_error: 1.9988 - val_mean_absolute_percentage_error: 18.4329\n",
            "Epoch 23/25\n",
            "754/754 [==============================] - 3s 4ms/step - loss: 1.9857 - mean_squared_error: 19.9464 - mean_absolute_error: 1.9857 - mean_absolute_percentage_error: 18.1481 - val_loss: 1.9821 - val_mean_squared_error: 19.8974 - val_mean_absolute_error: 1.9821 - val_mean_absolute_percentage_error: 18.4810\n",
            "Epoch 24/25\n",
            "754/754 [==============================] - 5s 7ms/step - loss: 1.9696 - mean_squared_error: 19.7269 - mean_absolute_error: 1.9696 - mean_absolute_percentage_error: 18.0425 - val_loss: 1.9687 - val_mean_squared_error: 19.8199 - val_mean_absolute_error: 1.9687 - val_mean_absolute_percentage_error: 18.1992\n",
            "Epoch 25/25\n",
            "754/754 [==============================] - 6s 8ms/step - loss: 1.9586 - mean_squared_error: 19.6066 - mean_absolute_error: 1.9586 - mean_absolute_percentage_error: 17.9835 - val_loss: 1.9571 - val_mean_squared_error: 19.6451 - val_mean_absolute_error: 1.9571 - val_mean_absolute_percentage_error: 18.1884\n"
          ]
        }
      ],
      "source": [
        "model.compile(loss='mean_absolute_error',optimizer='adam',metrics=['MeanSquaredError','MeanAbsoluteError','MeanAbsolutePercentageError'])\n",
        "results=model.fit(train_scaled,labels,validation_data=(X_train,y_train),epochs=25,batch_size=128)"
      ]
    },
    {
      "cell_type": "code",
      "execution_count": null,
      "metadata": {
        "id": "NigzeU36thJA"
      },
      "outputs": [],
      "source": [
        "model.compile(loss='mean_absolute_error',optimizer='adam',metrics=['MeanSquaredError','MeanAbsoluteError','MeanAbsolutePercentageError'])"
      ]
    },
    {
      "cell_type": "code",
      "execution_count": null,
      "metadata": {
        "colab": {
          "base_uri": "https://localhost:8080/"
        },
        "id": "SfCpJJZ3zcxP",
        "outputId": "f2c4417f-a62d-4819-8534-36f60d94b405"
      },
      "outputs": [
        {
          "name": "stdout",
          "output_type": "stream",
          "text": [
            "Epoch 1/25\n",
            "754/754 [==============================] - 4s 5ms/step - loss: 1.9481 - mean_squared_error: 19.5120 - mean_absolute_error: 1.9481 - mean_absolute_percentage_error: 17.8815 - val_loss: 1.9489 - val_mean_squared_error: 19.5886 - val_mean_absolute_error: 1.9489 - val_mean_absolute_percentage_error: 18.0957\n",
            "Epoch 2/25\n",
            "754/754 [==============================] - 3s 4ms/step - loss: 1.9400 - mean_squared_error: 19.4195 - mean_absolute_error: 1.9400 - mean_absolute_percentage_error: 17.8077 - val_loss: 1.9416 - val_mean_squared_error: 19.5202 - val_mean_absolute_error: 1.9416 - val_mean_absolute_percentage_error: 17.9952\n",
            "Epoch 3/25\n",
            "754/754 [==============================] - 3s 4ms/step - loss: 1.9321 - mean_squared_error: 19.3604 - mean_absolute_error: 1.9321 - mean_absolute_percentage_error: 17.7301 - val_loss: 1.9342 - val_mean_squared_error: 19.3737 - val_mean_absolute_error: 1.9342 - val_mean_absolute_percentage_error: 18.0863\n",
            "Epoch 4/25\n",
            "754/754 [==============================] - 3s 4ms/step - loss: 1.9252 - mean_squared_error: 19.3154 - mean_absolute_error: 1.9252 - mean_absolute_percentage_error: 17.6875 - val_loss: 1.9264 - val_mean_squared_error: 19.3779 - val_mean_absolute_error: 1.9264 - val_mean_absolute_percentage_error: 17.9395\n",
            "Epoch 5/25\n",
            "754/754 [==============================] - 3s 4ms/step - loss: 1.9188 - mean_squared_error: 19.2561 - mean_absolute_error: 1.9188 - mean_absolute_percentage_error: 17.6350 - val_loss: 1.9210 - val_mean_squared_error: 19.3765 - val_mean_absolute_error: 1.9210 - val_mean_absolute_percentage_error: 17.7905\n",
            "Epoch 6/25\n",
            "754/754 [==============================] - 3s 4ms/step - loss: 1.9137 - mean_squared_error: 19.2168 - mean_absolute_error: 1.9137 - mean_absolute_percentage_error: 17.5988 - val_loss: 1.9162 - val_mean_squared_error: 19.3167 - val_mean_absolute_error: 1.9162 - val_mean_absolute_percentage_error: 17.8226\n",
            "Epoch 7/25\n",
            "754/754 [==============================] - 3s 4ms/step - loss: 1.9082 - mean_squared_error: 19.1861 - mean_absolute_error: 1.9082 - mean_absolute_percentage_error: 17.5683 - val_loss: 1.9109 - val_mean_squared_error: 19.2420 - val_mean_absolute_error: 1.9109 - val_mean_absolute_percentage_error: 17.8061\n",
            "Epoch 8/25\n",
            "754/754 [==============================] - 3s 4ms/step - loss: 1.9044 - mean_squared_error: 19.1437 - mean_absolute_error: 1.9044 - mean_absolute_percentage_error: 17.5478 - val_loss: 1.9066 - val_mean_squared_error: 19.2037 - val_mean_absolute_error: 1.9066 - val_mean_absolute_percentage_error: 17.7901\n",
            "Epoch 9/25\n",
            "754/754 [==============================] - 3s 4ms/step - loss: 1.8996 - mean_squared_error: 19.1064 - mean_absolute_error: 1.8996 - mean_absolute_percentage_error: 17.4938 - val_loss: 1.9057 - val_mean_squared_error: 19.0881 - val_mean_absolute_error: 1.9057 - val_mean_absolute_percentage_error: 17.9970\n",
            "Epoch 10/25\n",
            "754/754 [==============================] - 3s 4ms/step - loss: 1.8965 - mean_squared_error: 19.0785 - mean_absolute_error: 1.8965 - mean_absolute_percentage_error: 17.4990 - val_loss: 1.9024 - val_mean_squared_error: 19.1760 - val_mean_absolute_error: 1.9024 - val_mean_absolute_percentage_error: 17.6956\n",
            "Epoch 11/25\n",
            "754/754 [==============================] - 3s 4ms/step - loss: 1.8936 - mean_squared_error: 19.0433 - mean_absolute_error: 1.8936 - mean_absolute_percentage_error: 17.4661 - val_loss: 1.8980 - val_mean_squared_error: 19.0795 - val_mean_absolute_error: 1.8980 - val_mean_absolute_percentage_error: 17.8524\n",
            "Epoch 12/25\n",
            "754/754 [==============================] - 3s 4ms/step - loss: 1.8905 - mean_squared_error: 19.0022 - mean_absolute_error: 1.8905 - mean_absolute_percentage_error: 17.4575 - val_loss: 1.8951 - val_mean_squared_error: 19.1763 - val_mean_absolute_error: 1.8951 - val_mean_absolute_percentage_error: 17.5877\n",
            "Epoch 13/25\n",
            "754/754 [==============================] - 3s 4ms/step - loss: 1.8877 - mean_squared_error: 18.9746 - mean_absolute_error: 1.8877 - mean_absolute_percentage_error: 17.4302 - val_loss: 1.8912 - val_mean_squared_error: 19.1182 - val_mean_absolute_error: 1.8912 - val_mean_absolute_percentage_error: 17.5797\n",
            "Epoch 14/25\n",
            "754/754 [==============================] - 3s 4ms/step - loss: 1.8847 - mean_squared_error: 18.9473 - mean_absolute_error: 1.8847 - mean_absolute_percentage_error: 17.4027 - val_loss: 1.8905 - val_mean_squared_error: 18.9924 - val_mean_absolute_error: 1.8905 - val_mean_absolute_percentage_error: 17.6885\n",
            "Epoch 15/25\n",
            "754/754 [==============================] - 3s 4ms/step - loss: 1.8821 - mean_squared_error: 18.9082 - mean_absolute_error: 1.8821 - mean_absolute_percentage_error: 17.4053 - val_loss: 1.8864 - val_mean_squared_error: 19.0942 - val_mean_absolute_error: 1.8864 - val_mean_absolute_percentage_error: 17.5148\n",
            "Epoch 16/25\n",
            "754/754 [==============================] - 3s 4ms/step - loss: 1.8788 - mean_squared_error: 18.8803 - mean_absolute_error: 1.8788 - mean_absolute_percentage_error: 17.3705 - val_loss: 1.8827 - val_mean_squared_error: 18.9642 - val_mean_absolute_error: 1.8827 - val_mean_absolute_percentage_error: 17.6685\n",
            "Epoch 17/25\n",
            "754/754 [==============================] - 3s 4ms/step - loss: 1.8761 - mean_squared_error: 18.8428 - mean_absolute_error: 1.8761 - mean_absolute_percentage_error: 17.3667 - val_loss: 1.8798 - val_mean_squared_error: 18.9471 - val_mean_absolute_error: 1.8798 - val_mean_absolute_percentage_error: 17.5419\n",
            "Epoch 18/25\n",
            "754/754 [==============================] - 3s 4ms/step - loss: 1.8729 - mean_squared_error: 18.8094 - mean_absolute_error: 1.8729 - mean_absolute_percentage_error: 17.3510 - val_loss: 1.8801 - val_mean_squared_error: 18.9670 - val_mean_absolute_error: 1.8801 - val_mean_absolute_percentage_error: 17.6130\n",
            "Epoch 19/25\n",
            "754/754 [==============================] - 3s 4ms/step - loss: 1.8701 - mean_squared_error: 18.7687 - mean_absolute_error: 1.8701 - mean_absolute_percentage_error: 17.3354 - val_loss: 1.8739 - val_mean_squared_error: 18.8449 - val_mean_absolute_error: 1.8739 - val_mean_absolute_percentage_error: 17.5857\n",
            "Epoch 20/25\n",
            "754/754 [==============================] - 3s 4ms/step - loss: 1.8676 - mean_squared_error: 18.7228 - mean_absolute_error: 1.8676 - mean_absolute_percentage_error: 17.3058 - val_loss: 1.8698 - val_mean_squared_error: 18.8208 - val_mean_absolute_error: 1.8698 - val_mean_absolute_percentage_error: 17.5468\n",
            "Epoch 21/25\n",
            "754/754 [==============================] - 3s 4ms/step - loss: 1.8642 - mean_squared_error: 18.7096 - mean_absolute_error: 1.8642 - mean_absolute_percentage_error: 17.2914 - val_loss: 1.8699 - val_mean_squared_error: 18.7901 - val_mean_absolute_error: 1.8699 - val_mean_absolute_percentage_error: 17.5490\n",
            "Epoch 22/25\n",
            "754/754 [==============================] - 3s 4ms/step - loss: 1.8624 - mean_squared_error: 18.6820 - mean_absolute_error: 1.8624 - mean_absolute_percentage_error: 17.2840 - val_loss: 1.8653 - val_mean_squared_error: 18.7823 - val_mean_absolute_error: 1.8653 - val_mean_absolute_percentage_error: 17.5284\n",
            "Epoch 23/25\n",
            "754/754 [==============================] - 3s 4ms/step - loss: 1.8583 - mean_squared_error: 18.6632 - mean_absolute_error: 1.8583 - mean_absolute_percentage_error: 17.2451 - val_loss: 1.8619 - val_mean_squared_error: 18.6972 - val_mean_absolute_error: 1.8619 - val_mean_absolute_percentage_error: 17.5036\n",
            "Epoch 24/25\n",
            "754/754 [==============================] - 3s 4ms/step - loss: 1.8558 - mean_squared_error: 18.6292 - mean_absolute_error: 1.8558 - mean_absolute_percentage_error: 17.2124 - val_loss: 1.8591 - val_mean_squared_error: 18.7493 - val_mean_absolute_error: 1.8591 - val_mean_absolute_percentage_error: 17.4115\n",
            "Epoch 25/25\n",
            "754/754 [==============================] - 3s 4ms/step - loss: 1.8518 - mean_squared_error: 18.6168 - mean_absolute_error: 1.8518 - mean_absolute_percentage_error: 17.2019 - val_loss: 1.8544 - val_mean_squared_error: 18.6615 - val_mean_absolute_error: 1.8544 - val_mean_absolute_percentage_error: 17.4233\n"
          ]
        }
      ],
      "source": [
        "results=model.fit(train_scaled,labels,validation_data=(X_train,y_train),epochs=25,batch_size=128)"
      ]
    },
    {
      "cell_type": "code",
      "execution_count": null,
      "metadata": {
        "colab": {
          "base_uri": "https://localhost:8080/",
          "height": 282
        },
        "id": "3LaJnFY7Nh41",
        "outputId": "4e666ae0-bfd0-4059-f623-ca749b2bc08e"
      },
      "outputs": [
        {
          "data": {
            "text/plain": [
              "[<matplotlib.lines.Line2D at 0x7f8f7658fe90>]"
            ]
          },
          "execution_count": 18,
          "metadata": {},
          "output_type": "execute_result"
        },
        {
          "data": {
            "image/png": "[encoded data removed]",
            "text/plain": [
              "<Figure size 432x288 with 1 Axes>"
            ]
          },
          "metadata": {},
          "output_type": "display_data"
        }
      ],
      "source": [
        "plt.plot(results.history['loss'],color = \"#0000FF\")\n",
        "plt.plot(results.history['val_loss'],color = \"#FFA500\")"
      ]
    },
    {
      "cell_type": "code",
      "execution_count": null,
      "metadata": {
        "colab": {
          "base_uri": "https://localhost:8080/"
        },
        "id": "5iz939xD3eq0",
        "outputId": "c26bd3ff-85c9-40d6-e838-934674b4238b"
      },
      "outputs": [
        {
          "data": {
            "text/plain": [
              "array([[ 7.4190893],\n",
              "       [17.14906  ],\n",
              "       [ 5.217228 ],\n",
              "       [ 9.130789 ],\n",
              "       [ 6.529293 ]], dtype=float32)"
            ]
          },
          "execution_count": 19,
          "metadata": {},
          "output_type": "execute_result"
        }
      ],
      "source": [
        "y_pred=model.predict(train_scaled.iloc[:5])\n",
        "y_pred"
      ]
    },
    {
      "cell_type": "code",
      "execution_count": null,
      "metadata": {
        "colab": {
          "base_uri": "https://localhost:8080/"
        },
        "id": "CTGwniqoUMAh",
        "outputId": "6da79962-abef-4007-96fd-6f165a63a3ec"
      },
      "outputs": [
        {
          "data": {
            "text/plain": [
              "0     4.5\n",
              "1    16.9\n",
              "2     5.7\n",
              "3     7.7\n",
              "4     5.3\n",
              "Name: fare_amount, dtype: float64"
            ]
          },
          "execution_count": 20,
          "metadata": {},
          "output_type": "execute_result"
        }
      ],
      "source": [
        "labels.iloc[:5]"
      ]
    },
    {
      "cell_type": "markdown",
      "metadata": {
        "id": "qYLalG1YlLhw"
      },
      "source": [
        "# Experiment with number of layers and neurons per layer to increase the performance metrics."
      ]
    },
    {
      "cell_type": "code",
      "execution_count": null,
      "metadata": {
        "id": "Cpxlm-uBUiSY"
      },
      "outputs": [],
      "source": [
        "# Increase number of layers \n",
        "model = Sequential()\n",
        "model.add(Dense(16,input_dim=11, activation = 'sigmoid'))\n",
        "model.add(Dense(8,activation='sigmoid'))\n",
        "model.add(Dense(10,activation='sigmoid'))\n",
        "model.add(Dense(1,activation='linear'))"
      ]
    },
    {
      "cell_type": "code",
      "execution_count": null,
      "metadata": {
        "colab": {
          "base_uri": "https://localhost:8080/"
        },
        "id": "dTQmd2cCllD8",
        "outputId": "d7a81ba8-d515-486b-e9d9-e94bb2ba2472"
      },
      "outputs": [
        {
          "name": "stdout",
          "output_type": "stream",
          "text": [
            "Model: \"sequential_1\"\n",
            "_________________________________________________________________\n",
            " Layer (type)                Output Shape              Param #   \n",
            "=================================================================\n",
            " dense_3 (Dense)             (None, 16)                192       \n",
            "                                                                 \n",
            " dense_4 (Dense)             (None, 8)                 136       \n",
            "                                                                 \n",
            " dense_5 (Dense)             (None, 10)                90        \n",
            "                                                                 \n",
            " dense_6 (Dense)             (None, 1)                 11        \n",
            "                                                                 \n",
            "=================================================================\n",
            "Total params: 429\n",
            "Trainable params: 429\n",
            "Non-trainable params: 0\n",
            "_________________________________________________________________\n"
          ]
        }
      ],
      "source": [
        "model.summary()"
      ]
    },
    {
      "cell_type": "code",
      "execution_count": null,
      "metadata": {
        "colab": {
          "base_uri": "https://localhost:8080/"
        },
        "id": "cj4TFdZWLOgT",
        "outputId": "d691f489-d123-4341-f44f-9aa184c12ddf"
      },
      "outputs": [
        {
          "name": "stdout",
          "output_type": "stream",
          "text": [
            "Epoch 1/25\n",
            "754/754 [==============================] - 4s 5ms/step - loss: 7.6505 - mean_squared_error: 150.4322 - mean_absolute_error: 7.6505 - mean_absolute_percentage_error: 57.6294 - val_loss: 5.5912 - val_mean_squared_error: 112.0781 - val_mean_absolute_error: 5.5912 - val_mean_absolute_percentage_error: 40.2752\n",
            "Epoch 2/25\n",
            "754/754 [==============================] - 3s 4ms/step - loss: 5.4012 - mean_squared_error: 104.0629 - mean_absolute_error: 5.4012 - mean_absolute_percentage_error: 42.2982 - val_loss: 5.3389 - val_mean_squared_error: 101.6448 - val_mean_absolute_error: 5.3389 - val_mean_absolute_percentage_error: 43.7551\n",
            "Epoch 3/25\n",
            "754/754 [==============================] - 3s 4ms/step - loss: 4.8706 - mean_squared_error: 94.0806 - mean_absolute_error: 4.8706 - mean_absolute_percentage_error: 37.1547 - val_loss: 4.1318 - val_mean_squared_error: 82.9740 - val_mean_absolute_error: 4.1318 - val_mean_absolute_percentage_error: 28.2754\n",
            "Epoch 4/25\n",
            "754/754 [==============================] - 3s 4ms/step - loss: 3.7439 - mean_squared_error: 72.8585 - mean_absolute_error: 3.7439 - mean_absolute_percentage_error: 25.2703 - val_loss: 3.5343 - val_mean_squared_error: 67.0482 - val_mean_absolute_error: 3.5343 - val_mean_absolute_percentage_error: 24.5062\n",
            "Epoch 5/25\n",
            "754/754 [==============================] - 3s 4ms/step - loss: 3.3294 - mean_squared_error: 61.1154 - mean_absolute_error: 3.3294 - mean_absolute_percentage_error: 23.0887 - val_loss: 3.1710 - val_mean_squared_error: 56.7216 - val_mean_absolute_error: 3.1710 - val_mean_absolute_percentage_error: 22.3462\n",
            "Epoch 6/25\n",
            "754/754 [==============================] - 3s 4ms/step - loss: 3.0099 - mean_squared_error: 51.7172 - mean_absolute_error: 3.0099 - mean_absolute_percentage_error: 21.2837 - val_loss: 2.9010 - val_mean_squared_error: 48.3332 - val_mean_absolute_error: 2.9010 - val_mean_absolute_percentage_error: 20.8602\n",
            "Epoch 7/25\n",
            "754/754 [==============================] - 3s 4ms/step - loss: 2.7837 - mean_squared_error: 44.0767 - mean_absolute_error: 2.7837 - mean_absolute_percentage_error: 20.4132 - val_loss: 2.7061 - val_mean_squared_error: 41.3221 - val_mean_absolute_error: 2.7061 - val_mean_absolute_percentage_error: 20.3951\n",
            "Epoch 8/25\n",
            "754/754 [==============================] - 3s 4ms/step - loss: 2.6150 - mean_squared_error: 38.2394 - mean_absolute_error: 2.6150 - mean_absolute_percentage_error: 19.9652 - val_loss: 2.5567 - val_mean_squared_error: 35.9632 - val_mean_absolute_error: 2.5567 - val_mean_absolute_percentage_error: 20.2555\n",
            "Epoch 9/25\n",
            "754/754 [==============================] - 3s 4ms/step - loss: 2.4826 - mean_squared_error: 33.7515 - mean_absolute_error: 2.4826 - mean_absolute_percentage_error: 19.6481 - val_loss: 2.4382 - val_mean_squared_error: 32.3770 - val_mean_absolute_error: 2.4382 - val_mean_absolute_percentage_error: 19.6290\n",
            "Epoch 10/25\n",
            "754/754 [==============================] - 3s 4ms/step - loss: 2.3868 - mean_squared_error: 30.5127 - mean_absolute_error: 2.3868 - mean_absolute_percentage_error: 19.3946 - val_loss: 2.3610 - val_mean_squared_error: 29.7823 - val_mean_absolute_error: 2.3610 - val_mean_absolute_percentage_error: 19.3134\n",
            "Epoch 11/25\n",
            "754/754 [==============================] - 3s 5ms/step - loss: 2.3211 - mean_squared_error: 28.3064 - mean_absolute_error: 2.3211 - mean_absolute_percentage_error: 19.1791 - val_loss: 2.3037 - val_mean_squared_error: 27.6091 - val_mean_absolute_error: 2.3037 - val_mean_absolute_percentage_error: 19.4456\n",
            "Epoch 12/25\n",
            "754/754 [==============================] - 3s 4ms/step - loss: 2.2724 - mean_squared_error: 26.6367 - mean_absolute_error: 2.2724 - mean_absolute_percentage_error: 19.0430 - val_loss: 2.2597 - val_mean_squared_error: 26.1066 - val_mean_absolute_error: 2.2597 - val_mean_absolute_percentage_error: 19.2918\n",
            "Epoch 13/25\n",
            "754/754 [==============================] - 3s 4ms/step - loss: 2.2303 - mean_squared_error: 25.2318 - mean_absolute_error: 2.2303 - mean_absolute_percentage_error: 18.9427 - val_loss: 2.2167 - val_mean_squared_error: 24.7926 - val_mean_absolute_error: 2.2167 - val_mean_absolute_percentage_error: 19.1030\n",
            "Epoch 14/25\n",
            "754/754 [==============================] - 3s 4ms/step - loss: 2.1895 - mean_squared_error: 24.0250 - mean_absolute_error: 2.1895 - mean_absolute_percentage_error: 18.8453 - val_loss: 2.1759 - val_mean_squared_error: 23.7021 - val_mean_absolute_error: 2.1759 - val_mean_absolute_percentage_error: 19.0177\n",
            "Epoch 15/25\n",
            "754/754 [==============================] - 3s 4ms/step - loss: 2.1490 - mean_squared_error: 22.9932 - mean_absolute_error: 2.1490 - mean_absolute_percentage_error: 18.7643 - val_loss: 2.1353 - val_mean_squared_error: 22.6613 - val_mean_absolute_error: 2.1353 - val_mean_absolute_percentage_error: 19.0065\n",
            "Epoch 16/25\n",
            "754/754 [==============================] - 3s 4ms/step - loss: 2.1089 - mean_squared_error: 22.0689 - mean_absolute_error: 2.1089 - mean_absolute_percentage_error: 18.6760 - val_loss: 2.0905 - val_mean_squared_error: 21.7432 - val_mean_absolute_error: 2.0905 - val_mean_absolute_percentage_error: 18.8698\n",
            "Epoch 17/25\n",
            "754/754 [==============================] - 3s 4ms/step - loss: 2.0676 - mean_squared_error: 21.2578 - mean_absolute_error: 2.0676 - mean_absolute_percentage_error: 18.5874 - val_loss: 2.0541 - val_mean_squared_error: 20.9484 - val_mean_absolute_error: 2.0541 - val_mean_absolute_percentage_error: 18.8396\n",
            "Epoch 18/25\n",
            "754/754 [==============================] - 3s 4ms/step - loss: 2.0376 - mean_squared_error: 20.6621 - mean_absolute_error: 2.0376 - mean_absolute_percentage_error: 18.5282 - val_loss: 2.0259 - val_mean_squared_error: 20.4937 - val_mean_absolute_error: 2.0259 - val_mean_absolute_percentage_error: 18.6817\n",
            "Epoch 19/25\n",
            "754/754 [==============================] - 3s 4ms/step - loss: 2.0120 - mean_squared_error: 20.2426 - mean_absolute_error: 2.0120 - mean_absolute_percentage_error: 18.4585 - val_loss: 2.0002 - val_mean_squared_error: 20.1165 - val_mean_absolute_error: 2.0002 - val_mean_absolute_percentage_error: 18.6755\n",
            "Epoch 20/25\n",
            "754/754 [==============================] - 3s 4ms/step - loss: 1.9925 - mean_squared_error: 19.9657 - mean_absolute_error: 1.9925 - mean_absolute_percentage_error: 18.3968 - val_loss: 1.9883 - val_mean_squared_error: 19.8531 - val_mean_absolute_error: 1.9883 - val_mean_absolute_percentage_error: 18.7881\n",
            "Epoch 21/25\n",
            "754/754 [==============================] - 3s 4ms/step - loss: 1.9802 - mean_squared_error: 19.7767 - mean_absolute_error: 1.9802 - mean_absolute_percentage_error: 18.3416 - val_loss: 1.9761 - val_mean_squared_error: 19.7206 - val_mean_absolute_error: 1.9761 - val_mean_absolute_percentage_error: 18.6394\n",
            "Epoch 22/25\n",
            "754/754 [==============================] - 3s 4ms/step - loss: 1.9724 - mean_squared_error: 19.6458 - mean_absolute_error: 1.9724 - mean_absolute_percentage_error: 18.3002 - val_loss: 1.9709 - val_mean_squared_error: 19.6908 - val_mean_absolute_error: 1.9709 - val_mean_absolute_percentage_error: 18.4755\n",
            "Epoch 23/25\n",
            "754/754 [==============================] - 3s 4ms/step - loss: 1.9646 - mean_squared_error: 19.5310 - mean_absolute_error: 1.9646 - mean_absolute_percentage_error: 18.2707 - val_loss: 1.9628 - val_mean_squared_error: 19.6147 - val_mean_absolute_error: 1.9628 - val_mean_absolute_percentage_error: 18.4085\n",
            "Epoch 24/25\n",
            "754/754 [==============================] - 3s 4ms/step - loss: 1.9598 - mean_squared_error: 19.4816 - mean_absolute_error: 1.9598 - mean_absolute_percentage_error: 18.2186 - val_loss: 1.9596 - val_mean_squared_error: 19.4829 - val_mean_absolute_error: 1.9596 - val_mean_absolute_percentage_error: 18.4771\n",
            "Epoch 25/25\n",
            "754/754 [==============================] - 3s 4ms/step - loss: 1.9552 - mean_squared_error: 19.4134 - mean_absolute_error: 1.9552 - mean_absolute_percentage_error: 18.1925 - val_loss: 1.9606 - val_mean_squared_error: 19.4642 - val_mean_absolute_error: 1.9606 - val_mean_absolute_percentage_error: 18.5748\n"
          ]
        }
      ],
      "source": [
        "model.compile(loss='mean_absolute_error',optimizer='adam',metrics=['MeanSquaredError','MeanAbsoluteError','MeanAbsolutePercentageError'])\n",
        "results=model.fit(train_scaled,labels,validation_data=(X_train,y_train),epochs=25,batch_size=128)"
      ]
    },
    {
      "cell_type": "code",
      "execution_count": null,
      "metadata": {
        "colab": {
          "base_uri": "https://localhost:8080/",
          "height": 282
        },
        "id": "_iFY6sPgl1fu",
        "outputId": "fb540cc5-da28-42c4-a1c0-6d58f513c033"
      },
      "outputs": [
        {
          "data": {
            "text/plain": [
              "[<matplotlib.lines.Line2D at 0x7f8f622a3650>]"
            ]
          },
          "execution_count": 24,
          "metadata": {},
          "output_type": "execute_result"
        },
        {
          "data": {
            "image/png": "[encoded data removed]",
            "text/plain": [
              "<Figure size 432x288 with 1 Axes>"
            ]
          },
          "metadata": {},
          "output_type": "display_data"
        }
      ],
      "source": [
        "plt.plot(results.history['loss'],color = \"#0000FF\")\n",
        "plt.plot(results.history['val_loss'],color = \"#FFA500\")"
      ]
    },
    {
      "cell_type": "markdown",
      "metadata": {
        "id": "eqGx1fl9XZoz"
      },
      "source": [
        "As we can see that there is not much affect<br> \n",
        "On increasing the layers realtion between loss and validation loss increases."
      ]
    },
    {
      "cell_type": "code",
      "execution_count": null,
      "metadata": {
        "id": "vCLJTHpnXhwu"
      },
      "outputs": [],
      "source": [
        "# On decreasing number of layers\n",
        "model = Sequential()\n",
        "model.add(Dense(16,input_dim=11, activation = 'sigmoid'))\n",
        "model.add(Dense(1,activation='linear'))"
      ]
    },
    {
      "cell_type": "code",
      "execution_count": null,
      "metadata": {
        "colab": {
          "base_uri": "https://localhost:8080/"
        },
        "id": "wQxx0xh-X8lp",
        "outputId": "3df7129b-7b82-4b0e-801f-4313edcff9f1"
      },
      "outputs": [
        {
          "name": "stdout",
          "output_type": "stream",
          "text": [
            "Model: \"sequential_2\"\n",
            "_________________________________________________________________\n",
            " Layer (type)                Output Shape              Param #   \n",
            "=================================================================\n",
            " dense_7 (Dense)             (None, 16)                192       \n",
            "                                                                 \n",
            " dense_8 (Dense)             (None, 1)                 17        \n",
            "                                                                 \n",
            "=================================================================\n",
            "Total params: 209\n",
            "Trainable params: 209\n",
            "Non-trainable params: 0\n",
            "_________________________________________________________________\n"
          ]
        }
      ],
      "source": [
        "model.summary()"
      ]
    },
    {
      "cell_type": "code",
      "execution_count": null,
      "metadata": {
        "colab": {
          "base_uri": "https://localhost:8080/"
        },
        "id": "L8FOLhWEYFCN",
        "outputId": "3c4528e4-d1fb-4c3a-8b3c-af984ca627e3"
      },
      "outputs": [
        {
          "name": "stdout",
          "output_type": "stream",
          "text": [
            "Epoch 1/25\n",
            "754/754 [==============================] - 4s 4ms/step - loss: 7.5658 - mean_squared_error: 152.4998 - mean_absolute_error: 7.5658 - mean_absolute_percentage_error: 55.9178 - val_loss: 5.2197 - val_mean_squared_error: 104.5486 - val_mean_absolute_error: 5.2197 - val_mean_absolute_percentage_error: 36.8316\n",
            "Epoch 2/25\n",
            "754/754 [==============================] - 3s 4ms/step - loss: 4.3384 - mean_squared_error: 80.9180 - mean_absolute_error: 4.3384 - mean_absolute_percentage_error: 32.6169 - val_loss: 3.6531 - val_mean_squared_error: 64.6968 - val_mean_absolute_error: 3.6531 - val_mean_absolute_percentage_error: 28.1399\n",
            "Epoch 3/25\n",
            "754/754 [==============================] - 3s 4ms/step - loss: 3.2346 - mean_squared_error: 55.7809 - mean_absolute_error: 3.2346 - mean_absolute_percentage_error: 23.9153 - val_loss: 2.9947 - val_mean_squared_error: 50.3003 - val_mean_absolute_error: 2.9947 - val_mean_absolute_percentage_error: 21.8234\n",
            "Epoch 4/25\n",
            "754/754 [==============================] - 3s 4ms/step - loss: 2.8765 - mean_squared_error: 45.9769 - mean_absolute_error: 2.8765 - mean_absolute_percentage_error: 21.0326 - val_loss: 2.8056 - val_mean_squared_error: 43.3809 - val_mean_absolute_error: 2.8056 - val_mean_absolute_percentage_error: 21.0232\n",
            "Epoch 5/25\n",
            "754/754 [==============================] - 3s 4ms/step - loss: 2.7143 - mean_squared_error: 40.1954 - mean_absolute_error: 2.7143 - mean_absolute_percentage_error: 20.6129 - val_loss: 2.6543 - val_mean_squared_error: 37.8948 - val_mean_absolute_error: 2.6543 - val_mean_absolute_percentage_error: 20.8914\n",
            "Epoch 6/25\n",
            "754/754 [==============================] - 3s 4ms/step - loss: 2.5772 - mean_squared_error: 35.1308 - mean_absolute_error: 2.5772 - mean_absolute_percentage_error: 20.4962 - val_loss: 2.5288 - val_mean_squared_error: 33.3003 - val_mean_absolute_error: 2.5288 - val_mean_absolute_percentage_error: 20.7267\n",
            "Epoch 7/25\n",
            "754/754 [==============================] - 3s 4ms/step - loss: 2.4692 - mean_squared_error: 31.0108 - mean_absolute_error: 2.4692 - mean_absolute_percentage_error: 20.4750 - val_loss: 2.4351 - val_mean_squared_error: 29.5336 - val_mean_absolute_error: 2.4351 - val_mean_absolute_percentage_error: 20.8833\n",
            "Epoch 8/25\n",
            "754/754 [==============================] - 3s 4ms/step - loss: 2.3865 - mean_squared_error: 27.9100 - mean_absolute_error: 2.3865 - mean_absolute_percentage_error: 20.4823 - val_loss: 2.3629 - val_mean_squared_error: 26.9172 - val_mean_absolute_error: 2.3629 - val_mean_absolute_percentage_error: 20.9189\n",
            "Epoch 9/25\n",
            "754/754 [==============================] - 3s 4ms/step - loss: 2.3237 - mean_squared_error: 25.6805 - mean_absolute_error: 2.3237 - mean_absolute_percentage_error: 20.4872 - val_loss: 2.3059 - val_mean_squared_error: 25.1171 - val_mean_absolute_error: 2.3059 - val_mean_absolute_percentage_error: 20.6793\n",
            "Epoch 10/25\n",
            "754/754 [==============================] - 3s 4ms/step - loss: 2.2724 - mean_squared_error: 24.0886 - mean_absolute_error: 2.2724 - mean_absolute_percentage_error: 20.4174 - val_loss: 2.2575 - val_mean_squared_error: 23.6117 - val_mean_absolute_error: 2.2575 - val_mean_absolute_percentage_error: 20.6831\n",
            "Epoch 11/25\n",
            "754/754 [==============================] - 3s 4ms/step - loss: 2.2267 - mean_squared_error: 22.9137 - mean_absolute_error: 2.2267 - mean_absolute_percentage_error: 20.2853 - val_loss: 2.2144 - val_mean_squared_error: 22.5496 - val_mean_absolute_error: 2.2144 - val_mean_absolute_percentage_error: 20.6966\n",
            "Epoch 12/25\n",
            "754/754 [==============================] - 3s 4ms/step - loss: 2.1859 - mean_squared_error: 22.0415 - mean_absolute_error: 2.1859 - mean_absolute_percentage_error: 20.2106 - val_loss: 2.1764 - val_mean_squared_error: 21.8388 - val_mean_absolute_error: 2.1764 - val_mean_absolute_percentage_error: 20.5310\n",
            "Epoch 13/25\n",
            "754/754 [==============================] - 3s 4ms/step - loss: 2.1521 - mean_squared_error: 21.4789 - mean_absolute_error: 2.1521 - mean_absolute_percentage_error: 20.0694 - val_loss: 2.1454 - val_mean_squared_error: 21.4374 - val_mean_absolute_error: 2.1454 - val_mean_absolute_percentage_error: 20.3417\n",
            "Epoch 14/25\n",
            "754/754 [==============================] - 3s 4ms/step - loss: 2.1247 - mean_squared_error: 21.0792 - mean_absolute_error: 2.1247 - mean_absolute_percentage_error: 19.9405 - val_loss: 2.1192 - val_mean_squared_error: 21.1397 - val_mean_absolute_error: 2.1192 - val_mean_absolute_percentage_error: 20.1007\n",
            "Epoch 15/25\n",
            "754/754 [==============================] - 3s 4ms/step - loss: 2.1017 - mean_squared_error: 20.8054 - mean_absolute_error: 2.1017 - mean_absolute_percentage_error: 19.7914 - val_loss: 2.0984 - val_mean_squared_error: 20.8181 - val_mean_absolute_error: 2.0984 - val_mean_absolute_percentage_error: 20.1431\n",
            "Epoch 16/25\n",
            "754/754 [==============================] - 3s 4ms/step - loss: 2.0848 - mean_squared_error: 20.6043 - mean_absolute_error: 2.0848 - mean_absolute_percentage_error: 19.6588 - val_loss: 2.0835 - val_mean_squared_error: 20.6739 - val_mean_absolute_error: 2.0835 - val_mean_absolute_percentage_error: 19.8952\n",
            "Epoch 17/25\n",
            "754/754 [==============================] - 3s 4ms/step - loss: 2.0717 - mean_squared_error: 20.4316 - mean_absolute_error: 2.0717 - mean_absolute_percentage_error: 19.5308 - val_loss: 2.0707 - val_mean_squared_error: 20.5228 - val_mean_absolute_error: 2.0707 - val_mean_absolute_percentage_error: 19.7681\n",
            "Epoch 18/25\n",
            "754/754 [==============================] - 3s 4ms/step - loss: 2.0603 - mean_squared_error: 20.3012 - mean_absolute_error: 2.0603 - mean_absolute_percentage_error: 19.4113 - val_loss: 2.0624 - val_mean_squared_error: 20.4780 - val_mean_absolute_error: 2.0624 - val_mean_absolute_percentage_error: 19.5261\n",
            "Epoch 19/25\n",
            "754/754 [==============================] - 3s 4ms/step - loss: 2.0519 - mean_squared_error: 20.1903 - mean_absolute_error: 2.0519 - mean_absolute_percentage_error: 19.3271 - val_loss: 2.0538 - val_mean_squared_error: 20.3655 - val_mean_absolute_error: 2.0538 - val_mean_absolute_percentage_error: 19.4110\n",
            "Epoch 20/25\n",
            "754/754 [==============================] - 3s 4ms/step - loss: 2.0442 - mean_squared_error: 20.1111 - mean_absolute_error: 2.0442 - mean_absolute_percentage_error: 19.2339 - val_loss: 2.0454 - val_mean_squared_error: 20.1950 - val_mean_absolute_error: 2.0454 - val_mean_absolute_percentage_error: 19.5124\n",
            "Epoch 21/25\n",
            "754/754 [==============================] - 3s 4ms/step - loss: 2.0368 - mean_squared_error: 20.0237 - mean_absolute_error: 2.0368 - mean_absolute_percentage_error: 19.1772 - val_loss: 2.0399 - val_mean_squared_error: 20.1231 - val_mean_absolute_error: 2.0399 - val_mean_absolute_percentage_error: 19.3805\n",
            "Epoch 22/25\n",
            "754/754 [==============================] - 3s 4ms/step - loss: 2.0308 - mean_squared_error: 19.9402 - mean_absolute_error: 2.0308 - mean_absolute_percentage_error: 19.1042 - val_loss: 2.0330 - val_mean_squared_error: 20.1110 - val_mean_absolute_error: 2.0330 - val_mean_absolute_percentage_error: 19.2438\n",
            "Epoch 23/25\n",
            "754/754 [==============================] - 3s 4ms/step - loss: 2.0249 - mean_squared_error: 19.8911 - mean_absolute_error: 2.0249 - mean_absolute_percentage_error: 19.0320 - val_loss: 2.0278 - val_mean_squared_error: 19.9747 - val_mean_absolute_error: 2.0278 - val_mean_absolute_percentage_error: 19.3259\n",
            "Epoch 24/25\n",
            "754/754 [==============================] - 3s 4ms/step - loss: 2.0200 - mean_squared_error: 19.8449 - mean_absolute_error: 2.0200 - mean_absolute_percentage_error: 18.9565 - val_loss: 2.0221 - val_mean_squared_error: 19.9405 - val_mean_absolute_error: 2.0221 - val_mean_absolute_percentage_error: 19.1669\n",
            "Epoch 25/25\n",
            "754/754 [==============================] - 3s 4ms/step - loss: 2.0150 - mean_squared_error: 19.8007 - mean_absolute_error: 2.0150 - mean_absolute_percentage_error: 18.8982 - val_loss: 2.0191 - val_mean_squared_error: 19.9582 - val_mean_absolute_error: 2.0191 - val_mean_absolute_percentage_error: 19.0900\n"
          ]
        }
      ],
      "source": [
        "model.compile(loss='mean_absolute_error',optimizer='adam',metrics=['MeanSquaredError','MeanAbsoluteError','MeanAbsolutePercentageError'])\n",
        "results=model.fit(train_scaled,labels,validation_data=(X_train,y_train),epochs=25,batch_size=128)"
      ]
    },
    {
      "cell_type": "code",
      "execution_count": null,
      "metadata": {
        "id": "Whgbf5hoYOUf"
      },
      "outputs": [],
      "source": [
        "plt.plot(results.history['loss'],color = \"#0000FF\")\n",
        "plt.plot(results.history['val_loss'],color = \"#FFA500\")"
      ]
    },
    {
      "cell_type": "code",
      "execution_count": null,
      "metadata": {
        "id": "V7m4jSJkYVxG"
      },
      "outputs": [],
      "source": [
        "# On increasing number of neurons per layers\n",
        "model = Sequential()\n",
        "model.add(Dense(20,input_dim=11, activation = 'sigmoid'))\n",
        "model.add(Dense(10,activation='sigmoid'))\n",
        "model.add(Dense(1,activation='linear'))"
      ]
    },
    {
      "cell_type": "code",
      "execution_count": null,
      "metadata": {
        "id": "h-PxGhqJkyg_"
      },
      "outputs": [],
      "source": [
        "model.summary()"
      ]
    },
    {
      "cell_type": "code",
      "execution_count": null,
      "metadata": {
        "colab": {
          "background_save": true
        },
        "id": "o7PoPSGpLmpU",
        "outputId": "5d1cd341-50fa-47a9-951c-8f9228de6e31"
      },
      "outputs": [
        {
          "name": "stdout",
          "output_type": "stream",
          "text": [
            "Epoch 1/25\n",
            "754/754 [==============================] - 4s 4ms/step - loss: 8.1568 - mean_squared_error: 160.1176 - mean_absolute_error: 8.1568 - mean_absolute_percentage_error: 61.1359 - val_loss: 6.0490 - val_mean_squared_error: 123.2781 - val_mean_absolute_error: 6.0490 - val_mean_absolute_percentage_error: 40.3704\n",
            "Epoch 2/25\n",
            "754/754 [==============================] - 3s 4ms/step - loss: 5.5394 - mean_squared_error: 110.1574 - mean_absolute_error: 5.5394 - mean_absolute_percentage_error: 39.6970 - val_loss: 5.2517 - val_mean_squared_error: 103.5467 - val_mean_absolute_error: 5.2517 - val_mean_absolute_percentage_error: 39.2338\n",
            "Epoch 3/25\n",
            "754/754 [==============================] - 3s 4ms/step - loss: 4.7315 - mean_squared_error: 94.1348 - mean_absolute_error: 4.7315 - mean_absolute_percentage_error: 32.8916 - val_loss: 4.1949 - val_mean_squared_error: 85.7179 - val_mean_absolute_error: 4.1949 - val_mean_absolute_percentage_error: 27.1007\n",
            "Epoch 4/25\n",
            "754/754 [==============================] - 3s 4ms/step - loss: 3.8407 - mean_squared_error: 77.5910 - mean_absolute_error: 3.8407 - mean_absolute_percentage_error: 24.0059 - val_loss: 3.6486 - val_mean_squared_error: 72.5122 - val_mean_absolute_error: 3.6486 - val_mean_absolute_percentage_error: 23.3552\n",
            "Epoch 5/25\n",
            "754/754 [==============================] - 3s 4ms/step - loss: 3.4964 - mean_squared_error: 67.5230 - mean_absolute_error: 3.4964 - mean_absolute_percentage_error: 22.7041 - val_loss: 3.3983 - val_mean_squared_error: 64.5331 - val_mean_absolute_error: 3.3983 - val_mean_absolute_percentage_error: 22.6222\n",
            "Epoch 6/25\n",
            "754/754 [==============================] - 3s 4ms/step - loss: 3.2775 - mean_squared_error: 60.5359 - mean_absolute_error: 3.2775 - mean_absolute_percentage_error: 22.0629 - val_loss: 3.1925 - val_mean_squared_error: 58.0380 - val_mean_absolute_error: 3.1925 - val_mean_absolute_percentage_error: 21.7913\n",
            "Epoch 7/25\n",
            "754/754 [==============================] - 3s 4ms/step - loss: 3.0733 - mean_squared_error: 54.3252 - mean_absolute_error: 3.0733 - mean_absolute_percentage_error: 21.0755 - val_loss: 2.9896 - val_mean_squared_error: 51.7232 - val_mean_absolute_error: 2.9896 - val_mean_absolute_percentage_error: 20.9845\n",
            "Epoch 8/25\n",
            "754/754 [==============================] - 3s 4ms/step - loss: 2.8856 - mean_squared_error: 48.2766 - mean_absolute_error: 2.8856 - mean_absolute_percentage_error: 20.3024 - val_loss: 2.8196 - val_mean_squared_error: 46.1018 - val_mean_absolute_error: 2.8196 - val_mean_absolute_percentage_error: 20.1495\n",
            "Epoch 9/25\n",
            "754/754 [==============================] - 3s 4ms/step - loss: 2.7342 - mean_squared_error: 43.0194 - mean_absolute_error: 2.7342 - mean_absolute_percentage_error: 19.8155 - val_loss: 2.6818 - val_mean_squared_error: 41.2503 - val_mean_absolute_error: 2.6818 - val_mean_absolute_percentage_error: 19.8069\n",
            "Epoch 10/25\n",
            "754/754 [==============================] - 3s 4ms/step - loss: 2.6096 - mean_squared_error: 38.6032 - mean_absolute_error: 2.6096 - mean_absolute_percentage_error: 19.5357 - val_loss: 2.5675 - val_mean_squared_error: 36.9315 - val_mean_absolute_error: 2.5675 - val_mean_absolute_percentage_error: 19.7793\n",
            "Epoch 11/25\n",
            "754/754 [==============================] - 3s 4ms/step - loss: 2.5051 - mean_squared_error: 34.9379 - mean_absolute_error: 2.5051 - mean_absolute_percentage_error: 19.3278 - val_loss: 2.4697 - val_mean_squared_error: 33.7279 - val_mean_absolute_error: 2.4697 - val_mean_absolute_percentage_error: 19.5475\n",
            "Epoch 12/25\n",
            "754/754 [==============================] - 3s 4ms/step - loss: 2.4201 - mean_squared_error: 32.0504 - mean_absolute_error: 2.4201 - mean_absolute_percentage_error: 19.1451 - val_loss: 2.3946 - val_mean_squared_error: 31.3232 - val_mean_absolute_error: 2.3946 - val_mean_absolute_percentage_error: 19.1999\n",
            "Epoch 13/25\n",
            "754/754 [==============================] - 3s 4ms/step - loss: 2.3527 - mean_squared_error: 29.8431 - mean_absolute_error: 2.3527 - mean_absolute_percentage_error: 18.9830 - val_loss: 2.3344 - val_mean_squared_error: 29.1844 - val_mean_absolute_error: 2.3344 - val_mean_absolute_percentage_error: 19.0583\n",
            "Epoch 14/25\n",
            "754/754 [==============================] - 3s 4ms/step - loss: 2.2977 - mean_squared_error: 28.1064 - mean_absolute_error: 2.2977 - mean_absolute_percentage_error: 18.8046 - val_loss: 2.2843 - val_mean_squared_error: 27.6744 - val_mean_absolute_error: 2.2843 - val_mean_absolute_percentage_error: 18.8929\n",
            "Epoch 15/25\n",
            "754/754 [==============================] - 3s 4ms/step - loss: 2.2526 - mean_squared_error: 26.6746 - mean_absolute_error: 2.2526 - mean_absolute_percentage_error: 18.6636 - val_loss: 2.2418 - val_mean_squared_error: 26.2526 - val_mean_absolute_error: 2.2418 - val_mean_absolute_percentage_error: 18.9715\n",
            "Epoch 16/25\n",
            "754/754 [==============================] - 3s 4ms/step - loss: 2.2121 - mean_squared_error: 25.4654 - mean_absolute_error: 2.2121 - mean_absolute_percentage_error: 18.5646 - val_loss: 2.2017 - val_mean_squared_error: 25.1603 - val_mean_absolute_error: 2.2017 - val_mean_absolute_percentage_error: 18.7252\n",
            "Epoch 17/25\n",
            "754/754 [==============================] - 3s 4ms/step - loss: 2.1733 - mean_squared_error: 24.3638 - mean_absolute_error: 2.1733 - mean_absolute_percentage_error: 18.4098 - val_loss: 2.1630 - val_mean_squared_error: 23.9998 - val_mean_absolute_error: 2.1630 - val_mean_absolute_percentage_error: 18.6382\n",
            "Epoch 18/25\n",
            "754/754 [==============================] - 3s 4ms/step - loss: 2.1363 - mean_squared_error: 23.3641 - mean_absolute_error: 2.1363 - mean_absolute_percentage_error: 18.3079 - val_loss: 2.1293 - val_mean_squared_error: 23.2216 - val_mean_absolute_error: 2.1293 - val_mean_absolute_percentage_error: 18.3370\n",
            "Epoch 19/25\n",
            "754/754 [==============================] - 3s 4ms/step - loss: 2.1023 - mean_squared_error: 22.4904 - mean_absolute_error: 2.1023 - mean_absolute_percentage_error: 18.2170 - val_loss: 2.0933 - val_mean_squared_error: 22.1571 - val_mean_absolute_error: 2.0933 - val_mean_absolute_percentage_error: 18.4704\n",
            "Epoch 20/25\n",
            "754/754 [==============================] - 3s 4ms/step - loss: 2.0694 - mean_squared_error: 21.7105 - mean_absolute_error: 2.0694 - mean_absolute_percentage_error: 18.1333 - val_loss: 2.0616 - val_mean_squared_error: 21.5974 - val_mean_absolute_error: 2.0616 - val_mean_absolute_percentage_error: 18.1233\n",
            "Epoch 21/25\n",
            "754/754 [==============================] - 3s 4ms/step - loss: 2.0383 - mean_squared_error: 21.0885 - mean_absolute_error: 2.0383 - mean_absolute_percentage_error: 18.0305 - val_loss: 2.0306 - val_mean_squared_error: 20.8203 - val_mean_absolute_error: 2.0306 - val_mean_absolute_percentage_error: 18.3969\n",
            "Epoch 22/25\n",
            "754/754 [==============================] - 3s 4ms/step - loss: 2.0112 - mean_squared_error: 20.5634 - mean_absolute_error: 2.0112 - mean_absolute_percentage_error: 17.9566 - val_loss: 2.0061 - val_mean_squared_error: 20.4195 - val_mean_absolute_error: 2.0061 - val_mean_absolute_percentage_error: 18.1808\n",
            "Epoch 23/25\n",
            "754/754 [==============================] - 3s 4ms/step - loss: 1.9892 - mean_squared_error: 20.1548 - mean_absolute_error: 1.9892 - mean_absolute_percentage_error: 17.8829 - val_loss: 1.9867 - val_mean_squared_error: 20.0211 - val_mean_absolute_error: 1.9867 - val_mean_absolute_percentage_error: 18.2174\n",
            "Epoch 24/25\n",
            "754/754 [==============================] - 3s 4ms/step - loss: 1.9698 - mean_squared_error: 19.8242 - mean_absolute_error: 1.9698 - mean_absolute_percentage_error: 17.8305 - val_loss: 1.9663 - val_mean_squared_error: 19.7207 - val_mean_absolute_error: 1.9663 - val_mean_absolute_percentage_error: 18.1020\n",
            "Epoch 25/25\n",
            "754/754 [==============================] - 4s 5ms/step - loss: 1.9515 - mean_squared_error: 19.5473 - mean_absolute_error: 1.9515 - mean_absolute_percentage_error: 17.7478 - val_loss: 1.9550 - val_mean_squared_error: 19.6672 - val_mean_absolute_error: 1.9550 - val_mean_absolute_percentage_error: 17.7461\n"
          ]
        }
      ],
      "source": [
        "model.compile(loss='mean_absolute_error',optimizer='adam',metrics=['MeanSquaredError','MeanAbsoluteError','MeanAbsolutePercentageError'])\n",
        "results=model.fit(train_scaled,labels,validation_data=(X_train,y_train),epochs=25,batch_size=128)"
      ]
    },
    {
      "cell_type": "code",
      "execution_count": null,
      "metadata": {
        "colab": {
          "background_save": true
        },
        "id": "hErE73W9lOnP",
        "outputId": "4a7b6b67-2dbd-446c-a44d-8c426feef42d"
      },
      "outputs": [
        {
          "data": {
            "text/plain": [
              "[<matplotlib.lines.Line2D at 0x7f90689f8050>]"
            ]
          },
          "execution_count": 32,
          "metadata": {},
          "output_type": "execute_result"
        },
        {
          "data": {
            "image/png": "[encoded data removed]",
            "text/plain": [
              "<Figure size 432x288 with 1 Axes>"
            ]
          },
          "metadata": {},
          "output_type": "display_data"
        }
      ],
      "source": [
        "plt.plot(results.history['loss'],color = \"#0000FF\")\n",
        "plt.plot(results.history['val_loss'],color = \"#FFA500\")"
      ]
    },
    {
      "cell_type": "code",
      "execution_count": null,
      "metadata": {
        "colab": {
          "background_save": true
        },
        "id": "gRe-SHSJlR0D"
      },
      "outputs": [],
      "source": [
        "# On decreasing number of neurons per layers\n",
        "model = Sequential()\n",
        "model.add(Dense(10,input_dim=11, activation = 'sigmoid'))\n",
        "model.add(Dense(5,activation='sigmoid'))\n",
        "model.add(Dense(1,activation='linear'))"
      ]
    },
    {
      "cell_type": "code",
      "execution_count": null,
      "metadata": {
        "colab": {
          "background_save": true
        },
        "id": "GP8RgP7wlgQU",
        "outputId": "720f3c28-4ccb-4f89-e963-8574140a3e4e"
      },
      "outputs": [
        {
          "name": "stdout",
          "output_type": "stream",
          "text": [
            "Model: \"sequential_4\"\n",
            "_________________________________________________________________\n",
            " Layer (type)                Output Shape              Param #   \n",
            "=================================================================\n",
            " dense_12 (Dense)            (None, 10)                120       \n",
            "                                                                 \n",
            " dense_13 (Dense)            (None, 5)                 55        \n",
            "                                                                 \n",
            " dense_14 (Dense)            (None, 1)                 6         \n",
            "                                                                 \n",
            "=================================================================\n",
            "Total params: 181\n",
            "Trainable params: 181\n",
            "Non-trainable params: 0\n",
            "_________________________________________________________________\n"
          ]
        }
      ],
      "source": [
        "model.summary()"
      ]
    },
    {
      "cell_type": "code",
      "execution_count": null,
      "metadata": {
        "colab": {
          "background_save": true
        },
        "id": "WbdCgcWZloev",
        "outputId": "a46e864b-cd1f-43e8-cf77-654924cf32ba"
      },
      "outputs": [
        {
          "name": "stdout",
          "output_type": "stream",
          "text": [
            "Epoch 1/25\n",
            "754/754 [==============================] - 3s 4ms/step - loss: 9.0637 - mean_squared_error: 175.7649 - mean_absolute_error: 9.0637 - mean_absolute_percentage_error: 71.5988 - val_loss: 7.1824 - val_mean_squared_error: 143.5790 - val_mean_absolute_error: 7.1824 - val_mean_absolute_percentage_error: 49.1945\n",
            "Epoch 2/25\n",
            "754/754 [==============================] - 3s 4ms/step - loss: 6.2463 - mean_squared_error: 126.0961 - mean_absolute_error: 6.2463 - mean_absolute_percentage_error: 41.8147 - val_loss: 5.7208 - val_mean_squared_error: 115.8001 - val_mean_absolute_error: 5.7208 - val_mean_absolute_percentage_error: 39.7284\n",
            "Epoch 3/25\n",
            "754/754 [==============================] - 3s 4ms/step - loss: 5.4621 - mean_squared_error: 108.6143 - mean_absolute_error: 5.4621 - mean_absolute_percentage_error: 39.3135 - val_loss: 5.2474 - val_mean_squared_error: 104.4162 - val_mean_absolute_error: 5.2474 - val_mean_absolute_percentage_error: 38.2503\n",
            "Epoch 4/25\n",
            "754/754 [==============================] - 3s 4ms/step - loss: 4.8162 - mean_squared_error: 96.7588 - mean_absolute_error: 4.8162 - mean_absolute_percentage_error: 32.9079 - val_loss: 4.4129 - val_mean_squared_error: 90.6838 - val_mean_absolute_error: 4.4129 - val_mean_absolute_percentage_error: 28.6263\n",
            "Epoch 5/25\n",
            "754/754 [==============================] - 3s 4ms/step - loss: 4.0862 - mean_squared_error: 83.7043 - mean_absolute_error: 4.0862 - mean_absolute_percentage_error: 25.5540 - val_loss: 3.8907 - val_mean_squared_error: 79.3498 - val_mean_absolute_error: 3.8907 - val_mean_absolute_percentage_error: 24.5372\n",
            "Epoch 6/25\n",
            "754/754 [==============================] - 3s 4ms/step - loss: 3.7353 - mean_squared_error: 74.5970 - mean_absolute_error: 3.7353 - mean_absolute_percentage_error: 23.7096 - val_loss: 3.6451 - val_mean_squared_error: 71.9526 - val_mean_absolute_error: 3.6451 - val_mean_absolute_percentage_error: 23.5793\n",
            "Epoch 7/25\n",
            "754/754 [==============================] - 3s 4ms/step - loss: 3.5316 - mean_squared_error: 68.0624 - mean_absolute_error: 3.5316 - mean_absolute_percentage_error: 23.2512 - val_loss: 3.4671 - val_mean_squared_error: 66.0968 - val_mean_absolute_error: 3.4671 - val_mean_absolute_percentage_error: 23.2666\n",
            "Epoch 8/25\n",
            "754/754 [==============================] - 3s 4ms/step - loss: 3.3652 - mean_squared_error: 62.7498 - mean_absolute_error: 3.3652 - mean_absolute_percentage_error: 22.8061 - val_loss: 3.3004 - val_mean_squared_error: 60.9657 - val_mean_absolute_error: 3.3004 - val_mean_absolute_percentage_error: 22.7069\n",
            "Epoch 9/25\n",
            "754/754 [==============================] - 3s 4ms/step - loss: 3.2003 - mean_squared_error: 57.9040 - mean_absolute_error: 3.2003 - mean_absolute_percentage_error: 22.0024 - val_loss: 3.1361 - val_mean_squared_error: 56.1701 - val_mean_absolute_error: 3.1361 - val_mean_absolute_percentage_error: 21.8391\n",
            "Epoch 10/25\n",
            "754/754 [==============================] - 3s 4ms/step - loss: 3.0414 - mean_squared_error: 53.1440 - mean_absolute_error: 3.0414 - mean_absolute_percentage_error: 21.1838 - val_loss: 2.9829 - val_mean_squared_error: 51.4262 - val_mean_absolute_error: 2.9829 - val_mean_absolute_percentage_error: 21.0826\n",
            "Epoch 11/25\n",
            "754/754 [==============================] - 3s 4ms/step - loss: 2.9003 - mean_squared_error: 48.6583 - mean_absolute_error: 2.9003 - mean_absolute_percentage_error: 20.5591 - val_loss: 2.8532 - val_mean_squared_error: 47.0453 - val_mean_absolute_error: 2.8532 - val_mean_absolute_percentage_error: 20.5766\n",
            "Epoch 12/25\n",
            "754/754 [==============================] - 3s 4ms/step - loss: 2.7829 - mean_squared_error: 44.5933 - mean_absolute_error: 2.7829 - mean_absolute_percentage_error: 20.1537 - val_loss: 2.7470 - val_mean_squared_error: 43.0955 - val_mean_absolute_error: 2.7470 - val_mean_absolute_percentage_error: 20.4172\n",
            "Epoch 13/25\n",
            "754/754 [==============================] - 3s 4ms/step - loss: 2.6848 - mean_squared_error: 41.0637 - mean_absolute_error: 2.6848 - mean_absolute_percentage_error: 19.9250 - val_loss: 2.6543 - val_mean_squared_error: 39.9503 - val_mean_absolute_error: 2.6543 - val_mean_absolute_percentage_error: 20.0482\n",
            "Epoch 14/25\n",
            "754/754 [==============================] - 3s 4ms/step - loss: 2.6014 - mean_squared_error: 38.0763 - mean_absolute_error: 2.6014 - mean_absolute_percentage_error: 19.7156 - val_loss: 2.5768 - val_mean_squared_error: 36.9285 - val_mean_absolute_error: 2.5768 - val_mean_absolute_percentage_error: 20.0792\n",
            "Epoch 15/25\n",
            "754/754 [==============================] - 3s 4ms/step - loss: 2.5284 - mean_squared_error: 35.4159 - mean_absolute_error: 2.5284 - mean_absolute_percentage_error: 19.5814 - val_loss: 2.5070 - val_mean_squared_error: 34.6453 - val_mean_absolute_error: 2.5070 - val_mean_absolute_percentage_error: 19.7748\n",
            "Epoch 16/25\n",
            "754/754 [==============================] - 3s 4ms/step - loss: 2.4654 - mean_squared_error: 33.2427 - mean_absolute_error: 2.4654 - mean_absolute_percentage_error: 19.4487 - val_loss: 2.4471 - val_mean_squared_error: 32.6287 - val_mean_absolute_error: 2.4471 - val_mean_absolute_percentage_error: 19.6688\n",
            "Epoch 17/25\n",
            "754/754 [==============================] - 3s 4ms/step - loss: 2.4107 - mean_squared_error: 31.4247 - mean_absolute_error: 2.4107 - mean_absolute_percentage_error: 19.3029 - val_loss: 2.3977 - val_mean_squared_error: 31.0290 - val_mean_absolute_error: 2.3977 - val_mean_absolute_percentage_error: 19.3505\n",
            "Epoch 18/25\n",
            "754/754 [==============================] - 3s 4ms/step - loss: 2.3644 - mean_squared_error: 29.9252 - mean_absolute_error: 2.3644 - mean_absolute_percentage_error: 19.1566 - val_loss: 2.3535 - val_mean_squared_error: 29.5263 - val_mean_absolute_error: 2.3535 - val_mean_absolute_percentage_error: 19.4734\n",
            "Epoch 19/25\n",
            "754/754 [==============================] - 3s 4ms/step - loss: 2.3241 - mean_squared_error: 28.7055 - mean_absolute_error: 2.3241 - mean_absolute_percentage_error: 19.0560 - val_loss: 2.3166 - val_mean_squared_error: 28.3624 - val_mean_absolute_error: 2.3166 - val_mean_absolute_percentage_error: 19.3518\n",
            "Epoch 20/25\n",
            "754/754 [==============================] - 3s 4ms/step - loss: 2.2889 - mean_squared_error: 27.7205 - mean_absolute_error: 2.2889 - mean_absolute_percentage_error: 18.9207 - val_loss: 2.2828 - val_mean_squared_error: 27.4676 - val_mean_absolute_error: 2.2828 - val_mean_absolute_percentage_error: 19.2012\n",
            "Epoch 21/25\n",
            "754/754 [==============================] - 3s 4ms/step - loss: 2.2579 - mean_squared_error: 26.8077 - mean_absolute_error: 2.2579 - mean_absolute_percentage_error: 18.8230 - val_loss: 2.2522 - val_mean_squared_error: 26.6176 - val_mean_absolute_error: 2.2522 - val_mean_absolute_percentage_error: 19.0401\n",
            "Epoch 22/25\n",
            "754/754 [==============================] - 3s 4ms/step - loss: 2.2290 - mean_squared_error: 25.9893 - mean_absolute_error: 2.2290 - mean_absolute_percentage_error: 18.7287 - val_loss: 2.2246 - val_mean_squared_error: 25.8496 - val_mean_absolute_error: 2.2246 - val_mean_absolute_percentage_error: 18.9092\n",
            "Epoch 23/25\n",
            "754/754 [==============================] - 3s 4ms/step - loss: 2.2030 - mean_squared_error: 25.2404 - mean_absolute_error: 2.2030 - mean_absolute_percentage_error: 18.6301 - val_loss: 2.2000 - val_mean_squared_error: 25.1525 - val_mean_absolute_error: 2.2000 - val_mean_absolute_percentage_error: 18.7991\n",
            "Epoch 24/25\n",
            "754/754 [==============================] - 3s 4ms/step - loss: 2.1796 - mean_squared_error: 24.5772 - mean_absolute_error: 2.1796 - mean_absolute_percentage_error: 18.5610 - val_loss: 2.1777 - val_mean_squared_error: 24.5819 - val_mean_absolute_error: 2.1777 - val_mean_absolute_percentage_error: 18.6562\n",
            "Epoch 25/25\n",
            "754/754 [==============================] - 3s 4ms/step - loss: 2.1575 - mean_squared_error: 23.9864 - mean_absolute_error: 2.1575 - mean_absolute_percentage_error: 18.4725 - val_loss: 2.1581 - val_mean_squared_error: 24.0153 - val_mean_absolute_error: 2.1581 - val_mean_absolute_percentage_error: 18.5167\n"
          ]
        }
      ],
      "source": [
        "model.compile(loss='mean_absolute_error',optimizer='adam',metrics=['MeanSquaredError','MeanAbsoluteError','MeanAbsolutePercentageError'])\n",
        "results=model.fit(train_scaled,labels,validation_data=(X_train,y_train),epochs=25,batch_size=128)"
      ]
    },
    {
      "cell_type": "code",
      "execution_count": null,
      "metadata": {
        "colab": {
          "background_save": true
        },
        "id": "IoaTPylplqKV",
        "outputId": "91d3156c-018d-4e3a-ec7c-95d75303974d"
      },
      "outputs": [
        {
          "data": {
            "text/plain": [
              "[<matplotlib.lines.Line2D at 0x7f8fe0176110>]"
            ]
          },
          "execution_count": 36,
          "metadata": {},
          "output_type": "execute_result"
        },
        {
          "data": {
            "image/png": "[encoded data removed]",
            "text/plain": [
              "<Figure size 432x288 with 1 Axes>"
            ]
          },
          "metadata": {},
          "output_type": "display_data"
        }
      ],
      "source": [
        "plt.plot(results.history['loss'],color = \"#0000FF\")\n",
        "plt.plot(results.history['val_loss'],color = \"#FFA500\")"
      ]
    },
    {
      "cell_type": "markdown",
      "metadata": {
        "id": "9p3QZaOylwK6"
      },
      "source": [
        "# Experiment with activation functions"
      ]
    },
    {
      "cell_type": "code",
      "execution_count": null,
      "metadata": {
        "colab": {
          "background_save": true
        },
        "id": "iB-FYzadTDRe"
      },
      "outputs": [],
      "source": [
        "# Using activation='tanh'\n",
        "model = Sequential()\n",
        "model.add(Dense(16,input_dim=11, activation = 'tanh'))\n",
        "model.add(Dense(8,activation='tanh'))\n",
        "model.add(Dense(1,activation='linear'))"
      ]
    },
    {
      "cell_type": "code",
      "execution_count": null,
      "metadata": {
        "colab": {
          "background_save": true
        },
        "id": "Plw0mAwKTDmS",
        "outputId": "16f5a22c-5086-4477-c032-8efd625344ad"
      },
      "outputs": [
        {
          "name": "stdout",
          "output_type": "stream",
          "text": [
            "Epoch 1/25\n",
            "754/754 [==============================] - 3s 4ms/step - loss: 6.3899 - mean_squared_error: 132.6289 - mean_absolute_error: 6.3899 - mean_absolute_percentage_error: 44.9389 - val_loss: 4.2981 - val_mean_squared_error: 88.6927 - val_mean_absolute_error: 4.2981 - val_mean_absolute_percentage_error: 26.5430\n",
            "Epoch 2/25\n",
            "754/754 [==============================] - 3s 4ms/step - loss: 3.8736 - mean_squared_error: 78.0364 - mean_absolute_error: 3.8736 - mean_absolute_percentage_error: 24.0792 - val_loss: 3.5571 - val_mean_squared_error: 70.2289 - val_mean_absolute_error: 3.5571 - val_mean_absolute_percentage_error: 22.4369\n",
            "Epoch 3/25\n",
            "754/754 [==============================] - 3s 4ms/step - loss: 3.3119 - mean_squared_error: 63.0239 - mean_absolute_error: 3.3119 - mean_absolute_percentage_error: 21.1988 - val_loss: 3.1408 - val_mean_squared_error: 58.0686 - val_mean_absolute_error: 3.1408 - val_mean_absolute_percentage_error: 20.5799\n",
            "Epoch 4/25\n",
            "754/754 [==============================] - 3s 4ms/step - loss: 2.9930 - mean_squared_error: 53.0652 - mean_absolute_error: 2.9930 - mean_absolute_percentage_error: 20.0750 - val_loss: 2.8863 - val_mean_squared_error: 49.6190 - val_mean_absolute_error: 2.8863 - val_mean_absolute_percentage_error: 19.7869\n",
            "Epoch 5/25\n",
            "754/754 [==============================] - 3s 4ms/step - loss: 2.7696 - mean_squared_error: 45.5033 - mean_absolute_error: 2.7696 - mean_absolute_percentage_error: 19.5227 - val_loss: 2.6919 - val_mean_squared_error: 42.6466 - val_mean_absolute_error: 2.6919 - val_mean_absolute_percentage_error: 19.5377\n",
            "Epoch 6/25\n",
            "754/754 [==============================] - 3s 4ms/step - loss: 2.5964 - mean_squared_error: 39.5707 - mean_absolute_error: 2.5964 - mean_absolute_percentage_error: 19.1107 - val_loss: 2.5300 - val_mean_squared_error: 37.4176 - val_mean_absolute_error: 2.5300 - val_mean_absolute_percentage_error: 19.1096\n",
            "Epoch 7/25\n",
            "754/754 [==============================] - 3s 4ms/step - loss: 2.4628 - mean_squared_error: 35.0814 - mean_absolute_error: 2.4628 - mean_absolute_percentage_error: 18.7158 - val_loss: 2.4253 - val_mean_squared_error: 33.5448 - val_mean_absolute_error: 2.4253 - val_mean_absolute_percentage_error: 19.2685\n",
            "Epoch 8/25\n",
            "754/754 [==============================] - 3s 4ms/step - loss: 2.3634 - mean_squared_error: 31.8116 - mean_absolute_error: 2.3634 - mean_absolute_percentage_error: 18.5455 - val_loss: 2.3352 - val_mean_squared_error: 30.9424 - val_mean_absolute_error: 2.3352 - val_mean_absolute_percentage_error: 18.3797\n",
            "Epoch 9/25\n",
            "754/754 [==============================] - 3s 4ms/step - loss: 2.2934 - mean_squared_error: 29.5106 - mean_absolute_error: 2.2934 - mean_absolute_percentage_error: 18.4293 - val_loss: 2.2690 - val_mean_squared_error: 28.8210 - val_mean_absolute_error: 2.2690 - val_mean_absolute_percentage_error: 18.5844\n",
            "Epoch 10/25\n",
            "754/754 [==============================] - 3s 4ms/step - loss: 2.2418 - mean_squared_error: 27.8452 - mean_absolute_error: 2.2418 - mean_absolute_percentage_error: 18.3231 - val_loss: 2.2211 - val_mean_squared_error: 27.3339 - val_mean_absolute_error: 2.2211 - val_mean_absolute_percentage_error: 18.5025\n",
            "Epoch 11/25\n",
            "754/754 [==============================] - 3s 4ms/step - loss: 2.2008 - mean_squared_error: 26.5811 - mean_absolute_error: 2.2008 - mean_absolute_percentage_error: 18.1752 - val_loss: 2.1911 - val_mean_squared_error: 26.2071 - val_mean_absolute_error: 2.1911 - val_mean_absolute_percentage_error: 18.5608\n",
            "Epoch 12/25\n",
            "754/754 [==============================] - 3s 4ms/step - loss: 2.1691 - mean_squared_error: 25.6339 - mean_absolute_error: 2.1691 - mean_absolute_percentage_error: 18.0561 - val_loss: 2.1663 - val_mean_squared_error: 25.4328 - val_mean_absolute_error: 2.1663 - val_mean_absolute_percentage_error: 18.0599\n",
            "Epoch 13/25\n",
            "754/754 [==============================] - 3s 4ms/step - loss: 2.1393 - mean_squared_error: 24.8140 - mean_absolute_error: 2.1393 - mean_absolute_percentage_error: 18.0386 - val_loss: 2.1346 - val_mean_squared_error: 24.6403 - val_mean_absolute_error: 2.1346 - val_mean_absolute_percentage_error: 18.2444\n",
            "Epoch 14/25\n",
            "754/754 [==============================] - 3s 4ms/step - loss: 2.1137 - mean_squared_error: 24.0798 - mean_absolute_error: 2.1137 - mean_absolute_percentage_error: 18.0255 - val_loss: 2.1023 - val_mean_squared_error: 23.8553 - val_mean_absolute_error: 2.1023 - val_mean_absolute_percentage_error: 17.9782\n",
            "Epoch 15/25\n",
            "754/754 [==============================] - 3s 4ms/step - loss: 2.0875 - mean_squared_error: 23.3785 - mean_absolute_error: 2.0875 - mean_absolute_percentage_error: 17.8834 - val_loss: 2.0829 - val_mean_squared_error: 23.2648 - val_mean_absolute_error: 2.0829 - val_mean_absolute_percentage_error: 18.1671\n",
            "Epoch 16/25\n",
            "754/754 [==============================] - 3s 4ms/step - loss: 2.0623 - mean_squared_error: 22.8318 - mean_absolute_error: 2.0623 - mean_absolute_percentage_error: 17.7127 - val_loss: 2.0538 - val_mean_squared_error: 22.6825 - val_mean_absolute_error: 2.0538 - val_mean_absolute_percentage_error: 17.8882\n",
            "Epoch 17/25\n",
            "754/754 [==============================] - 3s 4ms/step - loss: 2.0389 - mean_squared_error: 22.2757 - mean_absolute_error: 2.0389 - mean_absolute_percentage_error: 17.6909 - val_loss: 2.0260 - val_mean_squared_error: 22.1115 - val_mean_absolute_error: 2.0260 - val_mean_absolute_percentage_error: 17.8218\n",
            "Epoch 18/25\n",
            "754/754 [==============================] - 3s 4ms/step - loss: 2.0112 - mean_squared_error: 21.7283 - mean_absolute_error: 2.0112 - mean_absolute_percentage_error: 17.5819 - val_loss: 1.9991 - val_mean_squared_error: 21.5420 - val_mean_absolute_error: 1.9991 - val_mean_absolute_percentage_error: 17.7981\n",
            "Epoch 19/25\n",
            "754/754 [==============================] - 3s 4ms/step - loss: 1.9832 - mean_squared_error: 21.3045 - mean_absolute_error: 1.9832 - mean_absolute_percentage_error: 17.4633 - val_loss: 1.9723 - val_mean_squared_error: 21.0529 - val_mean_absolute_error: 1.9723 - val_mean_absolute_percentage_error: 17.8806\n",
            "Epoch 20/25\n",
            "754/754 [==============================] - 3s 4ms/step - loss: 1.9543 - mean_squared_error: 20.9214 - mean_absolute_error: 1.9543 - mean_absolute_percentage_error: 17.3673 - val_loss: 1.9556 - val_mean_squared_error: 20.9063 - val_mean_absolute_error: 1.9556 - val_mean_absolute_percentage_error: 17.4135\n",
            "Epoch 21/25\n",
            "754/754 [==============================] - 3s 4ms/step - loss: 1.9337 - mean_squared_error: 20.5797 - mean_absolute_error: 1.9337 - mean_absolute_percentage_error: 17.2475 - val_loss: 1.9310 - val_mean_squared_error: 20.7529 - val_mean_absolute_error: 1.9310 - val_mean_absolute_percentage_error: 16.9635\n",
            "Epoch 22/25\n",
            "754/754 [==============================] - 3s 4ms/step - loss: 1.9170 - mean_squared_error: 20.3119 - mean_absolute_error: 1.9170 - mean_absolute_percentage_error: 17.1185 - val_loss: 1.9091 - val_mean_squared_error: 20.3509 - val_mean_absolute_error: 1.9091 - val_mean_absolute_percentage_error: 16.9487\n",
            "Epoch 23/25\n",
            "754/754 [==============================] - 3s 4ms/step - loss: 1.9020 - mean_squared_error: 20.1294 - mean_absolute_error: 1.9020 - mean_absolute_percentage_error: 17.0902 - val_loss: 1.9041 - val_mean_squared_error: 20.2993 - val_mean_absolute_error: 1.9041 - val_mean_absolute_percentage_error: 16.8654\n",
            "Epoch 24/25\n",
            "754/754 [==============================] - 3s 4ms/step - loss: 1.8871 - mean_squared_error: 19.9353 - mean_absolute_error: 1.8871 - mean_absolute_percentage_error: 16.9141 - val_loss: 1.8897 - val_mean_squared_error: 19.7963 - val_mean_absolute_error: 1.8897 - val_mean_absolute_percentage_error: 17.6175\n",
            "Epoch 25/25\n",
            "754/754 [==============================] - 3s 4ms/step - loss: 1.8742 - mean_squared_error: 19.7526 - mean_absolute_error: 1.8742 - mean_absolute_percentage_error: 16.8982 - val_loss: 1.8781 - val_mean_squared_error: 19.8708 - val_mean_absolute_error: 1.8781 - val_mean_absolute_percentage_error: 16.7732\n"
          ]
        }
      ],
      "source": [
        "model.compile(loss='mean_absolute_error',optimizer='adam',metrics=['MeanSquaredError','MeanAbsoluteError','MeanAbsolutePercentageError'])\n",
        "results=model.fit(train_scaled,labels,validation_data=(X_train,y_train),epochs=25,batch_size=128)"
      ]
    },
    {
      "cell_type": "code",
      "execution_count": null,
      "metadata": {
        "colab": {
          "background_save": true
        },
        "id": "ylE9UHXzTN98",
        "outputId": "46f52cf9-324e-4d4d-94f9-08e41039fdf2"
      },
      "outputs": [
        {
          "name": "stdout",
          "output_type": "stream",
          "text": [
            "Model: \"sequential_5\"\n",
            "_________________________________________________________________\n",
            " Layer (type)                Output Shape              Param #   \n",
            "=================================================================\n",
            " dense_15 (Dense)            (None, 16)                192       \n",
            "                                                                 \n",
            " dense_16 (Dense)            (None, 8)                 136       \n",
            "                                                                 \n",
            " dense_17 (Dense)            (None, 1)                 9         \n",
            "                                                                 \n",
            "=================================================================\n",
            "Total params: 337\n",
            "Trainable params: 337\n",
            "Non-trainable params: 0\n",
            "_________________________________________________________________\n"
          ]
        }
      ],
      "source": [
        "model.summary()"
      ]
    },
    {
      "cell_type": "code",
      "execution_count": null,
      "metadata": {
        "colab": {
          "background_save": true
        },
        "id": "65K0t3LiTI9v",
        "outputId": "045d07de-54ec-4c11-f9cd-bda5de7e2cac"
      },
      "outputs": [
        {
          "data": {
            "text/plain": [
              "[<matplotlib.lines.Line2D at 0x7f8f76795290>]"
            ]
          },
          "execution_count": 40,
          "metadata": {},
          "output_type": "execute_result"
        },
        {
          "data": {
            "image/png": "[encoded data removed]",
            "text/plain": [
              "<Figure size 432x288 with 1 Axes>"
            ]
          },
          "metadata": {},
          "output_type": "display_data"
        }
      ],
      "source": [
        "plt.plot(results.history['loss'],color = \"#0000FF\")\n",
        "plt.plot(results.history['val_loss'],color = \"#FFA500\")"
      ]
    },
    {
      "cell_type": "code",
      "execution_count": null,
      "metadata": {
        "colab": {
          "background_save": true
        },
        "id": "YRGzdEBWTUeP"
      },
      "outputs": [],
      "source": []
    },
    {
      "cell_type": "code",
      "execution_count": null,
      "metadata": {
        "colab": {
          "background_save": true
        },
        "id": "_fpHPVX7TUlQ"
      },
      "outputs": [],
      "source": [
        "# Using activation='relu'\n",
        "model = Sequential()\n",
        "model.add(Dense(16,input_dim=11, activation = 'relu'))\n",
        "model.add(Dense(8,activation='relu'))\n",
        "model.add(Dense(1,activation='linear'))"
      ]
    },
    {
      "cell_type": "code",
      "execution_count": null,
      "metadata": {
        "colab": {
          "background_save": true
        },
        "id": "v3BoV6ZeTUq6",
        "outputId": "09288380-b603-43d8-ff16-d781499a6051"
      },
      "outputs": [
        {
          "name": "stdout",
          "output_type": "stream",
          "text": [
            "Epoch 1/25\n",
            "754/754 [==============================] - 3s 4ms/step - loss: 5.4579 - mean_squared_error: 94.6503 - mean_absolute_error: 5.4579 - mean_absolute_percentage_error: 47.6440 - val_loss: 2.5868 - val_mean_squared_error: 34.6772 - val_mean_absolute_error: 2.5868 - val_mean_absolute_percentage_error: 26.9412\n",
            "Epoch 2/25\n",
            "754/754 [==============================] - 3s 4ms/step - loss: 2.3803 - mean_squared_error: 33.5240 - mean_absolute_error: 2.3803 - mean_absolute_percentage_error: 23.5065 - val_loss: 2.2487 - val_mean_squared_error: 31.3446 - val_mean_absolute_error: 2.2487 - val_mean_absolute_percentage_error: 21.8239\n",
            "Epoch 3/25\n",
            "754/754 [==============================] - 3s 4ms/step - loss: 2.1530 - mean_squared_error: 30.4794 - mean_absolute_error: 2.1530 - mean_absolute_percentage_error: 20.2208 - val_loss: 2.0866 - val_mean_squared_error: 29.4126 - val_mean_absolute_error: 2.0866 - val_mean_absolute_percentage_error: 19.3802\n",
            "Epoch 4/25\n",
            "754/754 [==============================] - 3s 4ms/step - loss: 2.0421 - mean_squared_error: 29.1621 - mean_absolute_error: 2.0421 - mean_absolute_percentage_error: 18.6537 - val_loss: 2.0154 - val_mean_squared_error: 28.6932 - val_mean_absolute_error: 2.0154 - val_mean_absolute_percentage_error: 18.4778\n",
            "Epoch 5/25\n",
            "754/754 [==============================] - 3s 4ms/step - loss: 1.9838 - mean_squared_error: 28.1851 - mean_absolute_error: 1.9838 - mean_absolute_percentage_error: 18.0473 - val_loss: 1.9656 - val_mean_squared_error: 27.8295 - val_mean_absolute_error: 1.9656 - val_mean_absolute_percentage_error: 18.0356\n",
            "Epoch 6/25\n",
            "754/754 [==============================] - 3s 4ms/step - loss: 1.9415 - mean_squared_error: 27.5711 - mean_absolute_error: 1.9415 - mean_absolute_percentage_error: 17.6449 - val_loss: 1.9246 - val_mean_squared_error: 26.8144 - val_mean_absolute_error: 1.9246 - val_mean_absolute_percentage_error: 17.6724\n",
            "Epoch 7/25\n",
            "754/754 [==============================] - 3s 4ms/step - loss: 1.9050 - mean_squared_error: 26.8659 - mean_absolute_error: 1.9050 - mean_absolute_percentage_error: 17.3489 - val_loss: 1.8906 - val_mean_squared_error: 26.3710 - val_mean_absolute_error: 1.8906 - val_mean_absolute_percentage_error: 17.4105\n",
            "Epoch 8/25\n",
            "754/754 [==============================] - 3s 4ms/step - loss: 1.8761 - mean_squared_error: 26.6215 - mean_absolute_error: 1.8761 - mean_absolute_percentage_error: 17.1770 - val_loss: 1.8652 - val_mean_squared_error: 26.1525 - val_mean_absolute_error: 1.8652 - val_mean_absolute_percentage_error: 17.0252\n",
            "Epoch 9/25\n",
            "754/754 [==============================] - 3s 4ms/step - loss: 1.8553 - mean_squared_error: 26.2566 - mean_absolute_error: 1.8553 - mean_absolute_percentage_error: 17.0050 - val_loss: 1.8455 - val_mean_squared_error: 25.8415 - val_mean_absolute_error: 1.8455 - val_mean_absolute_percentage_error: 17.1345\n",
            "Epoch 10/25\n",
            "754/754 [==============================] - 3s 4ms/step - loss: 1.8394 - mean_squared_error: 26.1118 - mean_absolute_error: 1.8394 - mean_absolute_percentage_error: 16.9000 - val_loss: 1.8386 - val_mean_squared_error: 25.3562 - val_mean_absolute_error: 1.8386 - val_mean_absolute_percentage_error: 17.1118\n",
            "Epoch 11/25\n",
            "754/754 [==============================] - 3s 4ms/step - loss: 1.8296 - mean_squared_error: 25.9088 - mean_absolute_error: 1.8296 - mean_absolute_percentage_error: 16.8745 - val_loss: 1.8300 - val_mean_squared_error: 25.4216 - val_mean_absolute_error: 1.8300 - val_mean_absolute_percentage_error: 16.9228\n",
            "Epoch 12/25\n",
            "754/754 [==============================] - 3s 4ms/step - loss: 1.8212 - mean_squared_error: 25.6877 - mean_absolute_error: 1.8212 - mean_absolute_percentage_error: 16.7534 - val_loss: 1.8175 - val_mean_squared_error: 25.5880 - val_mean_absolute_error: 1.8175 - val_mean_absolute_percentage_error: 16.9204\n",
            "Epoch 13/25\n",
            "754/754 [==============================] - 3s 4ms/step - loss: 1.8162 - mean_squared_error: 25.5951 - mean_absolute_error: 1.8162 - mean_absolute_percentage_error: 16.7645 - val_loss: 1.8154 - val_mean_squared_error: 25.3277 - val_mean_absolute_error: 1.8154 - val_mean_absolute_percentage_error: 16.9125\n",
            "Epoch 14/25\n",
            "754/754 [==============================] - 3s 4ms/step - loss: 1.8114 - mean_squared_error: 25.6105 - mean_absolute_error: 1.8114 - mean_absolute_percentage_error: 16.7692 - val_loss: 1.8100 - val_mean_squared_error: 25.1372 - val_mean_absolute_error: 1.8100 - val_mean_absolute_percentage_error: 16.8058\n",
            "Epoch 15/25\n",
            "754/754 [==============================] - 3s 4ms/step - loss: 1.8073 - mean_squared_error: 25.3880 - mean_absolute_error: 1.8073 - mean_absolute_percentage_error: 16.7369 - val_loss: 1.8051 - val_mean_squared_error: 24.8474 - val_mean_absolute_error: 1.8051 - val_mean_absolute_percentage_error: 17.0127\n",
            "Epoch 16/25\n",
            "754/754 [==============================] - 3s 4ms/step - loss: 1.8045 - mean_squared_error: 25.1585 - mean_absolute_error: 1.8045 - mean_absolute_percentage_error: 16.7568 - val_loss: 1.8102 - val_mean_squared_error: 24.9363 - val_mean_absolute_error: 1.8102 - val_mean_absolute_percentage_error: 17.3049\n",
            "Epoch 17/25\n",
            "754/754 [==============================] - 3s 4ms/step - loss: 1.8007 - mean_squared_error: 25.1016 - mean_absolute_error: 1.8007 - mean_absolute_percentage_error: 16.6938 - val_loss: 1.8044 - val_mean_squared_error: 24.6181 - val_mean_absolute_error: 1.8044 - val_mean_absolute_percentage_error: 17.1922\n",
            "Epoch 18/25\n",
            "754/754 [==============================] - 3s 4ms/step - loss: 1.7975 - mean_squared_error: 24.9654 - mean_absolute_error: 1.7975 - mean_absolute_percentage_error: 16.6808 - val_loss: 1.8062 - val_mean_squared_error: 24.7985 - val_mean_absolute_error: 1.8062 - val_mean_absolute_percentage_error: 17.3550\n",
            "Epoch 19/25\n",
            "754/754 [==============================] - 3s 4ms/step - loss: 1.7952 - mean_squared_error: 24.9031 - mean_absolute_error: 1.7952 - mean_absolute_percentage_error: 16.6498 - val_loss: 1.7933 - val_mean_squared_error: 24.4943 - val_mean_absolute_error: 1.7933 - val_mean_absolute_percentage_error: 16.8770\n",
            "Epoch 20/25\n",
            "754/754 [==============================] - 3s 4ms/step - loss: 1.7930 - mean_squared_error: 24.8176 - mean_absolute_error: 1.7930 - mean_absolute_percentage_error: 16.5837 - val_loss: 1.7913 - val_mean_squared_error: 24.4260 - val_mean_absolute_error: 1.7913 - val_mean_absolute_percentage_error: 16.7104\n",
            "Epoch 21/25\n",
            "754/754 [==============================] - 3s 4ms/step - loss: 1.7905 - mean_squared_error: 24.6545 - mean_absolute_error: 1.7905 - mean_absolute_percentage_error: 16.6052 - val_loss: 1.7919 - val_mean_squared_error: 24.4989 - val_mean_absolute_error: 1.7919 - val_mean_absolute_percentage_error: 16.6344\n",
            "Epoch 22/25\n",
            "754/754 [==============================] - 3s 4ms/step - loss: 1.7877 - mean_squared_error: 24.5726 - mean_absolute_error: 1.7877 - mean_absolute_percentage_error: 16.5856 - val_loss: 1.7872 - val_mean_squared_error: 24.3204 - val_mean_absolute_error: 1.7872 - val_mean_absolute_percentage_error: 16.6501\n",
            "Epoch 23/25\n",
            "754/754 [==============================] - 3s 4ms/step - loss: 1.7848 - mean_squared_error: 24.4833 - mean_absolute_error: 1.7848 - mean_absolute_percentage_error: 16.5511 - val_loss: 1.7826 - val_mean_squared_error: 24.0077 - val_mean_absolute_error: 1.7826 - val_mean_absolute_percentage_error: 16.7975\n",
            "Epoch 24/25\n",
            "754/754 [==============================] - 3s 4ms/step - loss: 1.7816 - mean_squared_error: 24.1393 - mean_absolute_error: 1.7816 - mean_absolute_percentage_error: 16.5328 - val_loss: 1.7942 - val_mean_squared_error: 24.0817 - val_mean_absolute_error: 1.7942 - val_mean_absolute_percentage_error: 17.2647\n",
            "Epoch 25/25\n",
            "754/754 [==============================] - 3s 4ms/step - loss: 1.7794 - mean_squared_error: 24.1267 - mean_absolute_error: 1.7794 - mean_absolute_percentage_error: 16.4658 - val_loss: 1.7833 - val_mean_squared_error: 23.9324 - val_mean_absolute_error: 1.7833 - val_mean_absolute_percentage_error: 16.5176\n"
          ]
        }
      ],
      "source": [
        "model.compile(loss='mean_absolute_error',optimizer='adam',metrics=['MeanSquaredError','MeanAbsoluteError','MeanAbsolutePercentageError'])\n",
        "results=model.fit(train_scaled,labels,validation_data=(X_train,y_train),epochs=25,batch_size=128)"
      ]
    },
    {
      "cell_type": "code",
      "execution_count": null,
      "metadata": {
        "colab": {
          "background_save": true
        },
        "id": "FFgTL5j4TUzH",
        "outputId": "bd879b35-60ac-45e9-8af3-69fe0e7523db"
      },
      "outputs": [
        {
          "name": "stdout",
          "output_type": "stream",
          "text": [
            "Model: \"sequential_6\"\n",
            "_________________________________________________________________\n",
            " Layer (type)                Output Shape              Param #   \n",
            "=================================================================\n",
            " dense_18 (Dense)            (None, 16)                192       \n",
            "                                                                 \n",
            " dense_19 (Dense)            (None, 8)                 136       \n",
            "                                                                 \n",
            " dense_20 (Dense)            (None, 1)                 9         \n",
            "                                                                 \n",
            "=================================================================\n",
            "Total params: 337\n",
            "Trainable params: 337\n",
            "Non-trainable params: 0\n",
            "_________________________________________________________________\n"
          ]
        }
      ],
      "source": [
        "model.summary()"
      ]
    },
    {
      "cell_type": "code",
      "execution_count": null,
      "metadata": {
        "colab": {
          "background_save": true
        },
        "id": "gyT2CWnmTVoB",
        "outputId": "e07100f9-e6bc-464c-d743-2e4b58e9c054"
      },
      "outputs": [
        {
          "data": {
            "text/plain": [
              "[<matplotlib.lines.Line2D at 0x7f8f623971d0>]"
            ]
          },
          "execution_count": 44,
          "metadata": {},
          "output_type": "execute_result"
        },
        {
          "data": {
            "image/png": "[encoded data removed]",
            "text/plain": [
              "<Figure size 432x288 with 1 Axes>"
            ]
          },
          "metadata": {},
          "output_type": "display_data"
        }
      ],
      "source": [
        "plt.plot(results.history['loss'],color = \"#0000FF\")\n",
        "plt.plot(results.history['val_loss'],color = \"#FFA500\")"
      ]
    },
    {
      "cell_type": "markdown",
      "metadata": {
        "id": "BSLZM0EV0qxP"
      },
      "source": [
        "# Experiment with regularization techniques: Early stopping, Dropout rate"
      ]
    },
    {
      "cell_type": "code",
      "execution_count": null,
      "metadata": {
        "colab": {
          "background_save": true
        },
        "id": "IgtVMhxH05Tl"
      },
      "outputs": [],
      "source": [
        "# Early stopping\n",
        "model = Sequential()\n",
        "model.add(Dense(16,input_dim=11, activation = 'relu'))\n",
        "model.add(Dense(8,activation='relu'))\n",
        "model.add(Dense(1,activation='linear'))"
      ]
    },
    {
      "cell_type": "code",
      "execution_count": null,
      "metadata": {
        "colab": {
          "background_save": true
        },
        "id": "F5qzq0z99jSt"
      },
      "outputs": [],
      "source": [
        "from keras.callbacks import EarlyStopping\n",
        "callback=EarlyStopping(\n",
        "    monitor='val_loss',\n",
        "    min_delta=0.0001,\n",
        "    patience=5,\n",
        "    verbose=1,\n",
        "    mode='auto',\n",
        "    baseline=None,\n",
        "    restore_best_weights=False\n",
        ")"
      ]
    },
    {
      "cell_type": "code",
      "execution_count": null,
      "metadata": {
        "colab": {
          "background_save": true
        },
        "id": "wJUlEXfFMGKz",
        "outputId": "915cca0b-5a7a-45cf-dfda-ed854c6f7ed1"
      },
      "outputs": [
        {
          "name": "stdout",
          "output_type": "stream",
          "text": [
            "Epoch 1/1000\n",
            "754/754 [==============================] - 3s 4ms/step - loss: 4.8154 - mean_squared_error: 79.0783 - mean_absolute_error: 4.8154 - mean_absolute_percentage_error: 42.8368 - val_loss: 2.4879 - val_mean_squared_error: 30.8970 - val_mean_absolute_error: 2.4879 - val_mean_absolute_percentage_error: 25.7485\n",
            "Epoch 2/1000\n",
            "754/754 [==============================] - 3s 4ms/step - loss: 2.3229 - mean_squared_error: 30.0328 - mean_absolute_error: 2.3229 - mean_absolute_percentage_error: 22.8641 - val_loss: 2.2293 - val_mean_squared_error: 29.1945 - val_mean_absolute_error: 2.2293 - val_mean_absolute_percentage_error: 21.4690\n",
            "Epoch 3/1000\n",
            "754/754 [==============================] - 3s 4ms/step - loss: 2.1823 - mean_squared_error: 29.0828 - mean_absolute_error: 2.1823 - mean_absolute_percentage_error: 20.6747 - val_loss: 2.1588 - val_mean_squared_error: 28.7209 - val_mean_absolute_error: 2.1588 - val_mean_absolute_percentage_error: 20.2884\n",
            "Epoch 4/1000\n",
            "754/754 [==============================] - 3s 4ms/step - loss: 2.1256 - mean_squared_error: 28.3586 - mean_absolute_error: 2.1256 - mean_absolute_percentage_error: 19.8264 - val_loss: 2.1049 - val_mean_squared_error: 27.8633 - val_mean_absolute_error: 2.1049 - val_mean_absolute_percentage_error: 19.9169\n",
            "Epoch 5/1000\n",
            "754/754 [==============================] - 3s 4ms/step - loss: 2.0721 - mean_squared_error: 27.7264 - mean_absolute_error: 2.0721 - mean_absolute_percentage_error: 19.4223 - val_loss: 2.0464 - val_mean_squared_error: 27.0835 - val_mean_absolute_error: 2.0464 - val_mean_absolute_percentage_error: 19.2361\n",
            "Epoch 6/1000\n",
            "754/754 [==============================] - 3s 4ms/step - loss: 2.0177 - mean_squared_error: 26.9600 - mean_absolute_error: 2.0177 - mean_absolute_percentage_error: 18.8693 - val_loss: 1.9929 - val_mean_squared_error: 25.9068 - val_mean_absolute_error: 1.9929 - val_mean_absolute_percentage_error: 18.8439\n",
            "Epoch 7/1000\n",
            "754/754 [==============================] - 3s 4ms/step - loss: 1.9683 - mean_squared_error: 25.8574 - mean_absolute_error: 1.9683 - mean_absolute_percentage_error: 18.4415 - val_loss: 1.9487 - val_mean_squared_error: 25.5685 - val_mean_absolute_error: 1.9487 - val_mean_absolute_percentage_error: 18.4737\n",
            "Epoch 8/1000\n",
            "754/754 [==============================] - 3s 4ms/step - loss: 1.9236 - mean_squared_error: 25.2252 - mean_absolute_error: 1.9236 - mean_absolute_percentage_error: 18.0295 - val_loss: 1.9079 - val_mean_squared_error: 24.4712 - val_mean_absolute_error: 1.9079 - val_mean_absolute_percentage_error: 18.2870\n",
            "Epoch 9/1000\n",
            "754/754 [==============================] - 3s 4ms/step - loss: 1.8970 - mean_squared_error: 24.6483 - mean_absolute_error: 1.8970 - mean_absolute_percentage_error: 17.7644 - val_loss: 1.8903 - val_mean_squared_error: 24.3774 - val_mean_absolute_error: 1.8903 - val_mean_absolute_percentage_error: 17.8559\n",
            "Epoch 10/1000\n",
            "754/754 [==============================] - 3s 4ms/step - loss: 1.8821 - mean_squared_error: 24.4513 - mean_absolute_error: 1.8821 - mean_absolute_percentage_error: 17.6480 - val_loss: 1.8744 - val_mean_squared_error: 24.0010 - val_mean_absolute_error: 1.8744 - val_mean_absolute_percentage_error: 17.7701\n",
            "Epoch 11/1000\n",
            "754/754 [==============================] - 3s 4ms/step - loss: 1.8711 - mean_squared_error: 24.1201 - mean_absolute_error: 1.8711 - mean_absolute_percentage_error: 17.6096 - val_loss: 1.8654 - val_mean_squared_error: 23.8326 - val_mean_absolute_error: 1.8654 - val_mean_absolute_percentage_error: 17.6384\n",
            "Epoch 12/1000\n",
            "754/754 [==============================] - 3s 4ms/step - loss: 1.8628 - mean_squared_error: 23.9425 - mean_absolute_error: 1.8628 - mean_absolute_percentage_error: 17.4540 - val_loss: 1.8602 - val_mean_squared_error: 23.5676 - val_mean_absolute_error: 1.8602 - val_mean_absolute_percentage_error: 17.8280\n",
            "Epoch 13/1000\n",
            "754/754 [==============================] - 3s 4ms/step - loss: 1.8555 - mean_squared_error: 23.7532 - mean_absolute_error: 1.8555 - mean_absolute_percentage_error: 17.4710 - val_loss: 1.8552 - val_mean_squared_error: 23.5027 - val_mean_absolute_error: 1.8552 - val_mean_absolute_percentage_error: 17.9549\n",
            "Epoch 14/1000\n",
            "754/754 [==============================] - 3s 4ms/step - loss: 1.8478 - mean_squared_error: 23.6310 - mean_absolute_error: 1.8478 - mean_absolute_percentage_error: 17.3777 - val_loss: 1.8449 - val_mean_squared_error: 23.3849 - val_mean_absolute_error: 1.8449 - val_mean_absolute_percentage_error: 17.6756\n",
            "Epoch 15/1000\n",
            "754/754 [==============================] - 3s 4ms/step - loss: 1.8429 - mean_squared_error: 23.4242 - mean_absolute_error: 1.8429 - mean_absolute_percentage_error: 17.3173 - val_loss: 1.8378 - val_mean_squared_error: 23.0444 - val_mean_absolute_error: 1.8378 - val_mean_absolute_percentage_error: 17.5253\n",
            "Epoch 16/1000\n",
            "754/754 [==============================] - 3s 4ms/step - loss: 1.8368 - mean_squared_error: 23.3865 - mean_absolute_error: 1.8368 - mean_absolute_percentage_error: 17.2116 - val_loss: 1.8342 - val_mean_squared_error: 22.7966 - val_mean_absolute_error: 1.8342 - val_mean_absolute_percentage_error: 17.4731\n",
            "Epoch 17/1000\n",
            "754/754 [==============================] - 3s 4ms/step - loss: 1.8301 - mean_squared_error: 23.2711 - mean_absolute_error: 1.8301 - mean_absolute_percentage_error: 17.1234 - val_loss: 1.8270 - val_mean_squared_error: 22.7401 - val_mean_absolute_error: 1.8270 - val_mean_absolute_percentage_error: 17.5397\n",
            "Epoch 18/1000\n",
            "754/754 [==============================] - 3s 4ms/step - loss: 1.8271 - mean_squared_error: 23.0581 - mean_absolute_error: 1.8271 - mean_absolute_percentage_error: 17.1060 - val_loss: 1.8218 - val_mean_squared_error: 22.9324 - val_mean_absolute_error: 1.8218 - val_mean_absolute_percentage_error: 17.3932\n",
            "Epoch 19/1000\n",
            "754/754 [==============================] - 3s 4ms/step - loss: 1.8229 - mean_squared_error: 23.1953 - mean_absolute_error: 1.8229 - mean_absolute_percentage_error: 17.0742 - val_loss: 1.8215 - val_mean_squared_error: 22.6552 - val_mean_absolute_error: 1.8215 - val_mean_absolute_percentage_error: 17.1058\n",
            "Epoch 20/1000\n",
            "754/754 [==============================] - 3s 4ms/step - loss: 1.8203 - mean_squared_error: 23.0426 - mean_absolute_error: 1.8203 - mean_absolute_percentage_error: 17.0342 - val_loss: 1.8169 - val_mean_squared_error: 22.4579 - val_mean_absolute_error: 1.8169 - val_mean_absolute_percentage_error: 17.4187\n",
            "Epoch 21/1000\n",
            "754/754 [==============================] - 3s 4ms/step - loss: 1.8187 - mean_squared_error: 22.8670 - mean_absolute_error: 1.8187 - mean_absolute_percentage_error: 17.0387 - val_loss: 1.8154 - val_mean_squared_error: 22.8771 - val_mean_absolute_error: 1.8154 - val_mean_absolute_percentage_error: 17.2365\n",
            "Epoch 22/1000\n",
            "754/754 [==============================] - 3s 4ms/step - loss: 1.8155 - mean_squared_error: 22.9028 - mean_absolute_error: 1.8155 - mean_absolute_percentage_error: 17.0186 - val_loss: 1.8138 - val_mean_squared_error: 22.7118 - val_mean_absolute_error: 1.8138 - val_mean_absolute_percentage_error: 17.1159\n",
            "Epoch 23/1000\n",
            "754/754 [==============================] - 3s 4ms/step - loss: 1.8136 - mean_squared_error: 22.7816 - mean_absolute_error: 1.8136 - mean_absolute_percentage_error: 16.9315 - val_loss: 1.8074 - val_mean_squared_error: 22.5742 - val_mean_absolute_error: 1.8074 - val_mean_absolute_percentage_error: 17.1817\n",
            "Epoch 24/1000\n",
            "754/754 [==============================] - 3s 4ms/step - loss: 1.8111 - mean_squared_error: 22.7647 - mean_absolute_error: 1.8111 - mean_absolute_percentage_error: 17.0168 - val_loss: 1.8072 - val_mean_squared_error: 22.4030 - val_mean_absolute_error: 1.8072 - val_mean_absolute_percentage_error: 17.0537\n",
            "Epoch 25/1000\n",
            "754/754 [==============================] - 3s 4ms/step - loss: 1.8073 - mean_squared_error: 22.5589 - mean_absolute_error: 1.8073 - mean_absolute_percentage_error: 16.9600 - val_loss: 1.8051 - val_mean_squared_error: 22.4799 - val_mean_absolute_error: 1.8051 - val_mean_absolute_percentage_error: 17.0187\n",
            "Epoch 26/1000\n",
            "754/754 [==============================] - 3s 4ms/step - loss: 1.8042 - mean_squared_error: 22.7042 - mean_absolute_error: 1.8042 - mean_absolute_percentage_error: 16.8789 - val_loss: 1.8014 - val_mean_squared_error: 22.3995 - val_mean_absolute_error: 1.8014 - val_mean_absolute_percentage_error: 17.1528\n",
            "Epoch 27/1000\n",
            "754/754 [==============================] - 3s 4ms/step - loss: 1.8025 - mean_squared_error: 22.5672 - mean_absolute_error: 1.8025 - mean_absolute_percentage_error: 16.8812 - val_loss: 1.7985 - val_mean_squared_error: 22.4092 - val_mean_absolute_error: 1.7985 - val_mean_absolute_percentage_error: 17.1654\n",
            "Epoch 28/1000\n",
            "754/754 [==============================] - 3s 4ms/step - loss: 1.8007 - mean_squared_error: 22.5971 - mean_absolute_error: 1.8007 - mean_absolute_percentage_error: 16.8826 - val_loss: 1.8077 - val_mean_squared_error: 21.9541 - val_mean_absolute_error: 1.8077 - val_mean_absolute_percentage_error: 17.4211\n",
            "Epoch 29/1000\n",
            "754/754 [==============================] - 3s 4ms/step - loss: 1.7994 - mean_squared_error: 22.3806 - mean_absolute_error: 1.7994 - mean_absolute_percentage_error: 16.8994 - val_loss: 1.7952 - val_mean_squared_error: 22.3640 - val_mean_absolute_error: 1.7952 - val_mean_absolute_percentage_error: 17.0460\n",
            "Epoch 30/1000\n",
            "754/754 [==============================] - 3s 4ms/step - loss: 1.7976 - mean_squared_error: 22.4171 - mean_absolute_error: 1.7976 - mean_absolute_percentage_error: 16.8644 - val_loss: 1.7969 - val_mean_squared_error: 22.1688 - val_mean_absolute_error: 1.7969 - val_mean_absolute_percentage_error: 16.9029\n",
            "Epoch 31/1000\n",
            "754/754 [==============================] - 3s 4ms/step - loss: 1.7955 - mean_squared_error: 22.3358 - mean_absolute_error: 1.7955 - mean_absolute_percentage_error: 16.8785 - val_loss: 1.7930 - val_mean_squared_error: 22.0018 - val_mean_absolute_error: 1.7930 - val_mean_absolute_percentage_error: 17.1037\n",
            "Epoch 32/1000\n",
            "754/754 [==============================] - 3s 4ms/step - loss: 1.7941 - mean_squared_error: 22.4445 - mean_absolute_error: 1.7941 - mean_absolute_percentage_error: 16.8859 - val_loss: 1.7898 - val_mean_squared_error: 21.8513 - val_mean_absolute_error: 1.7898 - val_mean_absolute_percentage_error: 16.9873\n",
            "Epoch 33/1000\n",
            "754/754 [==============================] - 3s 4ms/step - loss: 1.7926 - mean_squared_error: 22.3086 - mean_absolute_error: 1.7926 - mean_absolute_percentage_error: 16.8654 - val_loss: 1.7904 - val_mean_squared_error: 21.9302 - val_mean_absolute_error: 1.7904 - val_mean_absolute_percentage_error: 17.1882\n",
            "Epoch 34/1000\n",
            "754/754 [==============================] - 3s 4ms/step - loss: 1.7908 - mean_squared_error: 22.3046 - mean_absolute_error: 1.7908 - mean_absolute_percentage_error: 16.7635 - val_loss: 1.7903 - val_mean_squared_error: 21.8583 - val_mean_absolute_error: 1.7903 - val_mean_absolute_percentage_error: 17.0354\n",
            "Epoch 35/1000\n",
            "754/754 [==============================] - 3s 4ms/step - loss: 1.7894 - mean_squared_error: 22.2247 - mean_absolute_error: 1.7894 - mean_absolute_percentage_error: 16.8557 - val_loss: 1.7963 - val_mean_squared_error: 21.5857 - val_mean_absolute_error: 1.7963 - val_mean_absolute_percentage_error: 17.1749\n",
            "Epoch 36/1000\n",
            "754/754 [==============================] - 3s 4ms/step - loss: 1.7874 - mean_squared_error: 22.0737 - mean_absolute_error: 1.7874 - mean_absolute_percentage_error: 16.7581 - val_loss: 1.7848 - val_mean_squared_error: 21.9936 - val_mean_absolute_error: 1.7848 - val_mean_absolute_percentage_error: 16.9874\n",
            "Epoch 37/1000\n",
            "754/754 [==============================] - 3s 4ms/step - loss: 1.7858 - mean_squared_error: 22.0820 - mean_absolute_error: 1.7858 - mean_absolute_percentage_error: 16.7752 - val_loss: 1.7806 - val_mean_squared_error: 21.8397 - val_mean_absolute_error: 1.7806 - val_mean_absolute_percentage_error: 16.8151\n",
            "Epoch 38/1000\n",
            "754/754 [==============================] - 3s 4ms/step - loss: 1.7836 - mean_squared_error: 21.9274 - mean_absolute_error: 1.7836 - mean_absolute_percentage_error: 16.7490 - val_loss: 1.7851 - val_mean_squared_error: 21.8394 - val_mean_absolute_error: 1.7851 - val_mean_absolute_percentage_error: 16.8866\n",
            "Epoch 39/1000\n",
            "754/754 [==============================] - 3s 4ms/step - loss: 1.7813 - mean_squared_error: 21.7949 - mean_absolute_error: 1.7813 - mean_absolute_percentage_error: 16.7269 - val_loss: 1.7794 - val_mean_squared_error: 21.6066 - val_mean_absolute_error: 1.7794 - val_mean_absolute_percentage_error: 16.8541\n",
            "Epoch 40/1000\n",
            "754/754 [==============================] - 3s 4ms/step - loss: 1.7805 - mean_squared_error: 21.8666 - mean_absolute_error: 1.7805 - mean_absolute_percentage_error: 16.7527 - val_loss: 1.7853 - val_mean_squared_error: 21.2665 - val_mean_absolute_error: 1.7853 - val_mean_absolute_percentage_error: 17.2920\n",
            "Epoch 41/1000\n",
            "754/754 [==============================] - 3s 4ms/step - loss: 1.7794 - mean_squared_error: 21.7987 - mean_absolute_error: 1.7794 - mean_absolute_percentage_error: 16.6900 - val_loss: 1.7774 - val_mean_squared_error: 21.3191 - val_mean_absolute_error: 1.7774 - val_mean_absolute_percentage_error: 17.0109\n",
            "Epoch 42/1000\n",
            "754/754 [==============================] - 3s 4ms/step - loss: 1.7778 - mean_squared_error: 21.5971 - mean_absolute_error: 1.7778 - mean_absolute_percentage_error: 16.6855 - val_loss: 1.7807 - val_mean_squared_error: 21.2437 - val_mean_absolute_error: 1.7807 - val_mean_absolute_percentage_error: 16.6954\n",
            "Epoch 43/1000\n",
            "754/754 [==============================] - 3s 4ms/step - loss: 1.7769 - mean_squared_error: 21.4435 - mean_absolute_error: 1.7769 - mean_absolute_percentage_error: 16.6942 - val_loss: 1.7746 - val_mean_squared_error: 21.5398 - val_mean_absolute_error: 1.7746 - val_mean_absolute_percentage_error: 16.8411\n",
            "Epoch 44/1000\n",
            "754/754 [==============================] - 3s 4ms/step - loss: 1.7753 - mean_squared_error: 21.5051 - mean_absolute_error: 1.7753 - mean_absolute_percentage_error: 16.6630 - val_loss: 1.7755 - val_mean_squared_error: 21.2597 - val_mean_absolute_error: 1.7755 - val_mean_absolute_percentage_error: 16.6728\n",
            "Epoch 45/1000\n",
            "754/754 [==============================] - 3s 4ms/step - loss: 1.7752 - mean_squared_error: 21.4100 - mean_absolute_error: 1.7752 - mean_absolute_percentage_error: 16.6541 - val_loss: 1.7719 - val_mean_squared_error: 21.4609 - val_mean_absolute_error: 1.7719 - val_mean_absolute_percentage_error: 16.6658\n",
            "Epoch 46/1000\n",
            "754/754 [==============================] - 3s 4ms/step - loss: 1.7740 - mean_squared_error: 21.3890 - mean_absolute_error: 1.7740 - mean_absolute_percentage_error: 16.5857 - val_loss: 1.7772 - val_mean_squared_error: 21.6051 - val_mean_absolute_error: 1.7772 - val_mean_absolute_percentage_error: 16.6236\n",
            "Epoch 47/1000\n",
            "754/754 [==============================] - 3s 4ms/step - loss: 1.7727 - mean_squared_error: 21.4020 - mean_absolute_error: 1.7727 - mean_absolute_percentage_error: 16.6268 - val_loss: 1.7733 - val_mean_squared_error: 21.2258 - val_mean_absolute_error: 1.7733 - val_mean_absolute_percentage_error: 16.5829\n",
            "Epoch 48/1000\n",
            "754/754 [==============================] - 3s 4ms/step - loss: 1.7722 - mean_squared_error: 21.3119 - mean_absolute_error: 1.7722 - mean_absolute_percentage_error: 16.6299 - val_loss: 1.7731 - val_mean_squared_error: 21.1130 - val_mean_absolute_error: 1.7731 - val_mean_absolute_percentage_error: 16.8296\n",
            "Epoch 49/1000\n",
            "754/754 [==============================] - 3s 4ms/step - loss: 1.7708 - mean_squared_error: 21.2067 - mean_absolute_error: 1.7708 - mean_absolute_percentage_error: 16.5850 - val_loss: 1.7682 - val_mean_squared_error: 21.0457 - val_mean_absolute_error: 1.7682 - val_mean_absolute_percentage_error: 16.6186\n",
            "Epoch 50/1000\n",
            "754/754 [==============================] - 3s 4ms/step - loss: 1.7694 - mean_squared_error: 21.2250 - mean_absolute_error: 1.7694 - mean_absolute_percentage_error: 16.6445 - val_loss: 1.7702 - val_mean_squared_error: 21.0702 - val_mean_absolute_error: 1.7702 - val_mean_absolute_percentage_error: 16.6088\n",
            "Epoch 51/1000\n",
            "754/754 [==============================] - 3s 4ms/step - loss: 1.7691 - mean_squared_error: 21.2223 - mean_absolute_error: 1.7691 - mean_absolute_percentage_error: 16.5909 - val_loss: 1.7702 - val_mean_squared_error: 21.1191 - val_mean_absolute_error: 1.7702 - val_mean_absolute_percentage_error: 16.9653\n",
            "Epoch 52/1000\n",
            "754/754 [==============================] - 3s 4ms/step - loss: 1.7677 - mean_squared_error: 21.1990 - mean_absolute_error: 1.7677 - mean_absolute_percentage_error: 16.5315 - val_loss: 1.7671 - val_mean_squared_error: 20.8915 - val_mean_absolute_error: 1.7671 - val_mean_absolute_percentage_error: 16.5659\n",
            "Epoch 53/1000\n",
            "754/754 [==============================] - 4s 6ms/step - loss: 1.7672 - mean_squared_error: 21.1796 - mean_absolute_error: 1.7672 - mean_absolute_percentage_error: 16.5203 - val_loss: 1.7638 - val_mean_squared_error: 20.7980 - val_mean_absolute_error: 1.7638 - val_mean_absolute_percentage_error: 16.6933\n",
            "Epoch 54/1000\n",
            "754/754 [==============================] - 3s 4ms/step - loss: 1.7661 - mean_squared_error: 21.0601 - mean_absolute_error: 1.7661 - mean_absolute_percentage_error: 16.5261 - val_loss: 1.7736 - val_mean_squared_error: 20.8616 - val_mean_absolute_error: 1.7736 - val_mean_absolute_percentage_error: 16.7450\n",
            "Epoch 55/1000\n",
            "754/754 [==============================] - 3s 4ms/step - loss: 1.7649 - mean_squared_error: 20.9861 - mean_absolute_error: 1.7649 - mean_absolute_percentage_error: 16.5459 - val_loss: 1.7658 - val_mean_squared_error: 20.6488 - val_mean_absolute_error: 1.7658 - val_mean_absolute_percentage_error: 16.9114\n",
            "Epoch 56/1000\n",
            "754/754 [==============================] - 3s 4ms/step - loss: 1.7643 - mean_squared_error: 20.8502 - mean_absolute_error: 1.7643 - mean_absolute_percentage_error: 16.5013 - val_loss: 1.7624 - val_mean_squared_error: 20.6420 - val_mean_absolute_error: 1.7624 - val_mean_absolute_percentage_error: 16.6874\n",
            "Epoch 57/1000\n",
            "754/754 [==============================] - 3s 4ms/step - loss: 1.7623 - mean_squared_error: 20.8384 - mean_absolute_error: 1.7623 - mean_absolute_percentage_error: 16.5398 - val_loss: 1.7679 - val_mean_squared_error: 20.4719 - val_mean_absolute_error: 1.7679 - val_mean_absolute_percentage_error: 16.7579\n",
            "Epoch 58/1000\n",
            "754/754 [==============================] - 3s 4ms/step - loss: 1.7624 - mean_squared_error: 20.6769 - mean_absolute_error: 1.7624 - mean_absolute_percentage_error: 16.5159 - val_loss: 1.7625 - val_mean_squared_error: 20.5045 - val_mean_absolute_error: 1.7625 - val_mean_absolute_percentage_error: 16.8207\n",
            "Epoch 59/1000\n",
            "754/754 [==============================] - 3s 4ms/step - loss: 1.7625 - mean_squared_error: 20.7541 - mean_absolute_error: 1.7625 - mean_absolute_percentage_error: 16.4714 - val_loss: 1.7606 - val_mean_squared_error: 20.6936 - val_mean_absolute_error: 1.7606 - val_mean_absolute_percentage_error: 16.5494\n",
            "Epoch 60/1000\n",
            "754/754 [==============================] - 3s 4ms/step - loss: 1.7607 - mean_squared_error: 20.7289 - mean_absolute_error: 1.7607 - mean_absolute_percentage_error: 16.5179 - val_loss: 1.7697 - val_mean_squared_error: 20.6923 - val_mean_absolute_error: 1.7697 - val_mean_absolute_percentage_error: 16.4553\n",
            "Epoch 61/1000\n",
            "754/754 [==============================] - 3s 4ms/step - loss: 1.7596 - mean_squared_error: 20.6620 - mean_absolute_error: 1.7596 - mean_absolute_percentage_error: 16.4662 - val_loss: 1.7602 - val_mean_squared_error: 20.6598 - val_mean_absolute_error: 1.7602 - val_mean_absolute_percentage_error: 16.6970\n",
            "Epoch 62/1000\n",
            "754/754 [==============================] - 3s 4ms/step - loss: 1.7588 - mean_squared_error: 20.6369 - mean_absolute_error: 1.7588 - mean_absolute_percentage_error: 16.5046 - val_loss: 1.7593 - val_mean_squared_error: 20.3602 - val_mean_absolute_error: 1.7593 - val_mean_absolute_percentage_error: 16.7722\n",
            "Epoch 63/1000\n",
            "754/754 [==============================] - 3s 4ms/step - loss: 1.7576 - mean_squared_error: 20.5403 - mean_absolute_error: 1.7576 - mean_absolute_percentage_error: 16.4269 - val_loss: 1.7560 - val_mean_squared_error: 20.1198 - val_mean_absolute_error: 1.7560 - val_mean_absolute_percentage_error: 16.6566\n",
            "Epoch 64/1000\n",
            "754/754 [==============================] - 3s 4ms/step - loss: 1.7566 - mean_squared_error: 20.4221 - mean_absolute_error: 1.7566 - mean_absolute_percentage_error: 16.5018 - val_loss: 1.7556 - val_mean_squared_error: 20.4103 - val_mean_absolute_error: 1.7556 - val_mean_absolute_percentage_error: 16.6094\n",
            "Epoch 65/1000\n",
            "754/754 [==============================] - 3s 4ms/step - loss: 1.7559 - mean_squared_error: 20.4544 - mean_absolute_error: 1.7559 - mean_absolute_percentage_error: 16.4362 - val_loss: 1.7592 - val_mean_squared_error: 20.4474 - val_mean_absolute_error: 1.7592 - val_mean_absolute_percentage_error: 16.7773\n",
            "Epoch 66/1000\n",
            "754/754 [==============================] - 3s 4ms/step - loss: 1.7554 - mean_squared_error: 20.3841 - mean_absolute_error: 1.7554 - mean_absolute_percentage_error: 16.4493 - val_loss: 1.7550 - val_mean_squared_error: 20.2939 - val_mean_absolute_error: 1.7550 - val_mean_absolute_percentage_error: 16.5509\n",
            "Epoch 67/1000\n",
            "754/754 [==============================] - 3s 4ms/step - loss: 1.7550 - mean_squared_error: 20.4196 - mean_absolute_error: 1.7550 - mean_absolute_percentage_error: 16.4384 - val_loss: 1.7549 - val_mean_squared_error: 20.1567 - val_mean_absolute_error: 1.7549 - val_mean_absolute_percentage_error: 16.7692\n",
            "Epoch 68/1000\n",
            "754/754 [==============================] - 3s 4ms/step - loss: 1.7537 - mean_squared_error: 20.3493 - mean_absolute_error: 1.7537 - mean_absolute_percentage_error: 16.4520 - val_loss: 1.7502 - val_mean_squared_error: 20.0914 - val_mean_absolute_error: 1.7502 - val_mean_absolute_percentage_error: 16.6654\n",
            "Epoch 69/1000\n",
            "754/754 [==============================] - 3s 4ms/step - loss: 1.7517 - mean_squared_error: 20.1948 - mean_absolute_error: 1.7517 - mean_absolute_percentage_error: 16.3733 - val_loss: 1.7572 - val_mean_squared_error: 20.1322 - val_mean_absolute_error: 1.7572 - val_mean_absolute_percentage_error: 16.7620\n",
            "Epoch 70/1000\n",
            "754/754 [==============================] - 3s 4ms/step - loss: 1.7528 - mean_squared_error: 20.2737 - mean_absolute_error: 1.7528 - mean_absolute_percentage_error: 16.4298 - val_loss: 1.7471 - val_mean_squared_error: 20.1170 - val_mean_absolute_error: 1.7471 - val_mean_absolute_percentage_error: 16.6046\n",
            "Epoch 71/1000\n",
            "754/754 [==============================] - 3s 4ms/step - loss: 1.7524 - mean_squared_error: 20.2982 - mean_absolute_error: 1.7524 - mean_absolute_percentage_error: 16.4429 - val_loss: 1.7541 - val_mean_squared_error: 19.7975 - val_mean_absolute_error: 1.7541 - val_mean_absolute_percentage_error: 16.5576\n",
            "Epoch 72/1000\n",
            "754/754 [==============================] - 3s 4ms/step - loss: 1.7516 - mean_squared_error: 20.1954 - mean_absolute_error: 1.7516 - mean_absolute_percentage_error: 16.3776 - val_loss: 1.7540 - val_mean_squared_error: 20.1426 - val_mean_absolute_error: 1.7540 - val_mean_absolute_percentage_error: 16.4978\n",
            "Epoch 73/1000\n",
            "754/754 [==============================] - 3s 4ms/step - loss: 1.7513 - mean_squared_error: 20.1310 - mean_absolute_error: 1.7513 - mean_absolute_percentage_error: 16.4134 - val_loss: 1.7546 - val_mean_squared_error: 20.1536 - val_mean_absolute_error: 1.7546 - val_mean_absolute_percentage_error: 16.4970\n",
            "Epoch 74/1000\n",
            "754/754 [==============================] - 3s 4ms/step - loss: 1.7499 - mean_squared_error: 20.2075 - mean_absolute_error: 1.7499 - mean_absolute_percentage_error: 16.3880 - val_loss: 1.7537 - val_mean_squared_error: 20.0280 - val_mean_absolute_error: 1.7537 - val_mean_absolute_percentage_error: 16.4849\n",
            "Epoch 75/1000\n",
            "754/754 [==============================] - 3s 4ms/step - loss: 1.7501 - mean_squared_error: 20.0642 - mean_absolute_error: 1.7501 - mean_absolute_percentage_error: 16.4128 - val_loss: 1.7512 - val_mean_squared_error: 20.1618 - val_mean_absolute_error: 1.7512 - val_mean_absolute_percentage_error: 16.2891\n",
            "Epoch 75: early stopping\n"
          ]
        }
      ],
      "source": [
        "model.compile(loss='mean_absolute_error',optimizer='adam',metrics=['MeanSquaredError','MeanAbsoluteError','MeanAbsolutePercentageError'])\n",
        "results=model.fit(train_scaled,labels,validation_data=(X_train,y_train),epochs=1000,batch_size=128,callbacks=callback)"
      ]
    },
    {
      "cell_type": "code",
      "execution_count": null,
      "metadata": {
        "colab": {
          "background_save": true
        },
        "id": "f2i66kAp1IIF"
      },
      "outputs": [],
      "source": [
        "# Dropout rate\n",
        "from tensorflow.keras.layers import Dropout\n",
        "model = Sequential()\n",
        "model.add(Dense(16,input_dim=11, activation = 'relu'))\n",
        "model.add(Dropout(0.5))\n",
        "model.add(Dense(8,activation='relu'))\n",
        "model.add(Dropout(0.5))\n",
        "model.add(Dense(1,activation='linear'))"
      ]
    },
    {
      "cell_type": "markdown",
      "metadata": {
        "id": "HZVhFLKLFake"
      },
      "source": [
        "- There is no overfitting so dropout will not do any better."
      ]
    },
    {
      "cell_type": "code",
      "execution_count": null,
      "metadata": {
        "colab": {
          "background_save": true
        },
        "id": "A1Q-mKUgAflp"
      },
      "outputs": [],
      "source": [
        "model.compile(loss='mean_absolute_error',optimizer='adam',metrics=['MeanSquaredError','MeanAbsoluteError','MeanAbsolutePercentageError'])"
      ]
    },
    {
      "cell_type": "code",
      "execution_count": null,
      "metadata": {
        "colab": {
          "background_save": true
        },
        "id": "Pae4aRyvAgVV",
        "outputId": "a2af831a-fc51-403f-a3ef-db7324ed74b6"
      },
      "outputs": [
        {
          "name": "stdout",
          "output_type": "stream",
          "text": [
            "Epoch 1/25\n",
            "604/604 [==============================] - 3s 4ms/step - loss: 7.6890 - mean_squared_error: 130.0225 - mean_absolute_error: 7.6890 - mean_absolute_percentage_error: 67.5702 - val_loss: 4.0658 - val_mean_squared_error: 48.2634 - val_mean_absolute_error: 4.0658 - val_mean_absolute_percentage_error: 33.7218\n",
            "Epoch 2/25\n",
            "604/604 [==============================] - 2s 3ms/step - loss: 5.7122 - mean_squared_error: 89.3344 - mean_absolute_error: 5.7122 - mean_absolute_percentage_error: 51.3883 - val_loss: 3.5286 - val_mean_squared_error: 40.6616 - val_mean_absolute_error: 3.5286 - val_mean_absolute_percentage_error: 29.3667\n",
            "Epoch 3/25\n",
            "604/604 [==============================] - 2s 4ms/step - loss: 5.1958 - mean_squared_error: 80.4352 - mean_absolute_error: 5.1958 - mean_absolute_percentage_error: 45.6332 - val_loss: 3.3376 - val_mean_squared_error: 39.6238 - val_mean_absolute_error: 3.3376 - val_mean_absolute_percentage_error: 27.2832\n",
            "Epoch 4/25\n",
            "604/604 [==============================] - 2s 3ms/step - loss: 4.8807 - mean_squared_error: 74.9267 - mean_absolute_error: 4.8807 - mean_absolute_percentage_error: 41.1567 - val_loss: 3.1301 - val_mean_squared_error: 37.5572 - val_mean_absolute_error: 3.1301 - val_mean_absolute_percentage_error: 25.7526\n",
            "Epoch 5/25\n",
            "604/604 [==============================] - 2s 3ms/step - loss: 4.6349 - mean_squared_error: 72.5215 - mean_absolute_error: 4.6349 - mean_absolute_percentage_error: 38.7501 - val_loss: 2.9810 - val_mean_squared_error: 36.0911 - val_mean_absolute_error: 2.9810 - val_mean_absolute_percentage_error: 24.7545\n",
            "Epoch 6/25\n",
            "604/604 [==============================] - 2s 3ms/step - loss: 4.4237 - mean_squared_error: 67.4268 - mean_absolute_error: 4.4237 - mean_absolute_percentage_error: 36.0205 - val_loss: 3.0349 - val_mean_squared_error: 37.4634 - val_mean_absolute_error: 3.0349 - val_mean_absolute_percentage_error: 24.6066\n",
            "Epoch 7/25\n",
            "604/604 [==============================] - 2s 3ms/step - loss: 4.2201 - mean_squared_error: 64.8159 - mean_absolute_error: 4.2201 - mean_absolute_percentage_error: 33.9069 - val_loss: 2.8212 - val_mean_squared_error: 34.8944 - val_mean_absolute_error: 2.8212 - val_mean_absolute_percentage_error: 23.5652\n",
            "Epoch 8/25\n",
            "604/604 [==============================] - 2s 4ms/step - loss: 4.0951 - mean_squared_error: 64.6690 - mean_absolute_error: 4.0951 - mean_absolute_percentage_error: 32.4465 - val_loss: 2.8268 - val_mean_squared_error: 34.9724 - val_mean_absolute_error: 2.8268 - val_mean_absolute_percentage_error: 23.7668\n",
            "Epoch 9/25\n",
            "604/604 [==============================] - 2s 4ms/step - loss: 3.9311 - mean_squared_error: 61.5336 - mean_absolute_error: 3.9311 - mean_absolute_percentage_error: 30.7363 - val_loss: 2.7412 - val_mean_squared_error: 33.7859 - val_mean_absolute_error: 2.7412 - val_mean_absolute_percentage_error: 23.5055\n",
            "Epoch 10/25\n",
            "604/604 [==============================] - 2s 3ms/step - loss: 3.8098 - mean_squared_error: 61.0640 - mean_absolute_error: 3.8098 - mean_absolute_percentage_error: 29.5794 - val_loss: 2.7560 - val_mean_squared_error: 33.9961 - val_mean_absolute_error: 2.7560 - val_mean_absolute_percentage_error: 23.9122\n",
            "Epoch 11/25\n",
            "604/604 [==============================] - 2s 3ms/step - loss: 3.7170 - mean_squared_error: 63.3468 - mean_absolute_error: 3.7170 - mean_absolute_percentage_error: 29.0956 - val_loss: 2.6359 - val_mean_squared_error: 32.3047 - val_mean_absolute_error: 2.6359 - val_mean_absolute_percentage_error: 23.7148\n",
            "Epoch 12/25\n",
            "604/604 [==============================] - 2s 3ms/step - loss: 3.6476 - mean_squared_error: 60.6746 - mean_absolute_error: 3.6476 - mean_absolute_percentage_error: 28.8508 - val_loss: 2.7294 - val_mean_squared_error: 33.3336 - val_mean_absolute_error: 2.7294 - val_mean_absolute_percentage_error: 24.5955\n",
            "Epoch 13/25\n",
            "604/604 [==============================] - 2s 3ms/step - loss: 3.6069 - mean_squared_error: 59.3425 - mean_absolute_error: 3.6069 - mean_absolute_percentage_error: 28.8269 - val_loss: 2.7079 - val_mean_squared_error: 32.7840 - val_mean_absolute_error: 2.7079 - val_mean_absolute_percentage_error: 25.3516\n",
            "Epoch 14/25\n",
            "604/604 [==============================] - 2s 3ms/step - loss: 3.5913 - mean_squared_error: 59.2426 - mean_absolute_error: 3.5913 - mean_absolute_percentage_error: 29.0506 - val_loss: 2.7556 - val_mean_squared_error: 32.8903 - val_mean_absolute_error: 2.7556 - val_mean_absolute_percentage_error: 26.4893\n",
            "Epoch 15/25\n",
            "604/604 [==============================] - 2s 3ms/step - loss: 3.5112 - mean_squared_error: 53.6182 - mean_absolute_error: 3.5112 - mean_absolute_percentage_error: 29.1776 - val_loss: 2.6943 - val_mean_squared_error: 31.4886 - val_mean_absolute_error: 2.6943 - val_mean_absolute_percentage_error: 27.0573\n",
            "Epoch 16/25\n",
            "604/604 [==============================] - 2s 4ms/step - loss: 3.5202 - mean_squared_error: 56.4572 - mean_absolute_error: 3.5202 - mean_absolute_percentage_error: 29.5692 - val_loss: 2.7055 - val_mean_squared_error: 31.4989 - val_mean_absolute_error: 2.7055 - val_mean_absolute_percentage_error: 27.2689\n",
            "Epoch 17/25\n",
            "604/604 [==============================] - 2s 3ms/step - loss: 3.5497 - mean_squared_error: 58.1484 - mean_absolute_error: 3.5497 - mean_absolute_percentage_error: 29.8390 - val_loss: 2.7398 - val_mean_squared_error: 31.9634 - val_mean_absolute_error: 2.7398 - val_mean_absolute_percentage_error: 27.5972\n",
            "Epoch 18/25\n",
            "604/604 [==============================] - 2s 4ms/step - loss: 3.5192 - mean_squared_error: 54.1922 - mean_absolute_error: 3.5192 - mean_absolute_percentage_error: 29.8273 - val_loss: 2.6877 - val_mean_squared_error: 31.1703 - val_mean_absolute_error: 2.6877 - val_mean_absolute_percentage_error: 27.5184\n",
            "Epoch 19/25\n",
            "604/604 [==============================] - 2s 4ms/step - loss: 3.5304 - mean_squared_error: 53.1277 - mean_absolute_error: 3.5304 - mean_absolute_percentage_error: 29.8958 - val_loss: 2.7087 - val_mean_squared_error: 31.3353 - val_mean_absolute_error: 2.7087 - val_mean_absolute_percentage_error: 27.7605\n",
            "Epoch 20/25\n",
            "604/604 [==============================] - 2s 4ms/step - loss: 3.5384 - mean_squared_error: 58.0918 - mean_absolute_error: 3.5384 - mean_absolute_percentage_error: 30.1615 - val_loss: 2.7061 - val_mean_squared_error: 31.1788 - val_mean_absolute_error: 2.7061 - val_mean_absolute_percentage_error: 27.8495\n",
            "Epoch 21/25\n",
            "604/604 [==============================] - 2s 3ms/step - loss: 3.5573 - mean_squared_error: 58.8426 - mean_absolute_error: 3.5573 - mean_absolute_percentage_error: 30.3226 - val_loss: 2.7692 - val_mean_squared_error: 32.0626 - val_mean_absolute_error: 2.7692 - val_mean_absolute_percentage_error: 28.1664\n",
            "Epoch 22/25\n",
            "604/604 [==============================] - 2s 4ms/step - loss: 3.5410 - mean_squared_error: 56.3375 - mean_absolute_error: 3.5410 - mean_absolute_percentage_error: 30.3366 - val_loss: 2.7383 - val_mean_squared_error: 31.5457 - val_mean_absolute_error: 2.7383 - val_mean_absolute_percentage_error: 28.1186\n",
            "Epoch 23/25\n",
            "604/604 [==============================] - 2s 4ms/step - loss: 3.4690 - mean_squared_error: 57.3289 - mean_absolute_error: 3.4690 - mean_absolute_percentage_error: 28.0945 - val_loss: 2.6346 - val_mean_squared_error: 31.2698 - val_mean_absolute_error: 2.6346 - val_mean_absolute_percentage_error: 25.4357\n",
            "Epoch 24/25\n",
            "604/604 [==============================] - 2s 3ms/step - loss: 3.3993 - mean_squared_error: 50.6677 - mean_absolute_error: 3.3993 - mean_absolute_percentage_error: 27.9477 - val_loss: 2.6262 - val_mean_squared_error: 31.0737 - val_mean_absolute_error: 2.6262 - val_mean_absolute_percentage_error: 25.6028\n",
            "Epoch 25/25\n",
            "604/604 [==============================] - 2s 3ms/step - loss: 3.3988 - mean_squared_error: 53.2015 - mean_absolute_error: 3.3988 - mean_absolute_percentage_error: 28.7507 - val_loss: 2.6429 - val_mean_squared_error: 31.0644 - val_mean_absolute_error: 2.6429 - val_mean_absolute_percentage_error: 26.0607\n"
          ]
        }
      ],
      "source": [
        "results=model.fit(train_scaled,labels,validation_split=0.2,epochs=25,batch_size=128)"
      ]
    },
    {
      "cell_type": "code",
      "execution_count": null,
      "metadata": {
        "colab": {
          "background_save": true
        },
        "id": "8-rSnIEUA5Lv",
        "outputId": "648a4519-0a14-42a0-d9bb-52332dd1c248"
      },
      "outputs": [
        {
          "data": {
            "text/plain": [
              "[<matplotlib.lines.Line2D at 0x7f8f5d4d4e10>]"
            ]
          },
          "execution_count": 51,
          "metadata": {},
          "output_type": "execute_result"
        },
        {
          "data": {
            "image/png": "[encoded data removed]",
            "text/plain": [
              "<Figure size 432x288 with 1 Axes>"
            ]
          },
          "metadata": {},
          "output_type": "display_data"
        }
      ],
      "source": [
        "plt.plot(results.history['loss'],color = \"#0000FF\")\n",
        "plt.plot(results.history['val_loss'],color = \"#FFA500\")"
      ]
    },
    {
      "cell_type": "markdown",
      "metadata": {
        "id": "T0Lr6Xcw1TRr"
      },
      "source": [
        "# Experiment with optimizers"
      ]
    },
    {
      "cell_type": "code",
      "execution_count": null,
      "metadata": {
        "colab": {
          "background_save": true
        },
        "id": "tjLZfGF81Zmh"
      },
      "outputs": [],
      "source": [
        "model = Sequential()\n",
        "model.add(Dense(16,input_dim=11, activation = 'relu'))\n",
        "model.add(Dense(8,activation='relu'))\n",
        "model.add(Dense(1,activation='linear'))"
      ]
    },
    {
      "cell_type": "code",
      "execution_count": null,
      "metadata": {
        "colab": {
          "background_save": true
        },
        "id": "taeDwYS7tvz5",
        "outputId": "110dcac3-6433-48ff-9d15-93a7a6110236"
      },
      "outputs": [
        {
          "name": "stdout",
          "output_type": "stream",
          "text": [
            "Epoch 1/10\n",
            "604/604 [==============================] - 2s 3ms/step - loss: 3.5219 - mean_squared_error: 52.8731 - mean_absolute_error: 3.5219 - mean_absolute_percentage_error: 32.1348 - val_loss: 2.1846 - val_mean_squared_error: 27.2183 - val_mean_absolute_error: 2.1846 - val_mean_absolute_percentage_error: 21.7849\n",
            "Epoch 2/10\n",
            "604/604 [==============================] - 2s 3ms/step - loss: 2.1469 - mean_squared_error: 29.4228 - mean_absolute_error: 2.1469 - mean_absolute_percentage_error: 19.6683 - val_loss: 2.1125 - val_mean_squared_error: 26.7202 - val_mean_absolute_error: 2.1125 - val_mean_absolute_percentage_error: 20.3727\n",
            "Epoch 3/10\n",
            "604/604 [==============================] - 2s 3ms/step - loss: 2.0777 - mean_squared_error: 28.7654 - mean_absolute_error: 2.0777 - mean_absolute_percentage_error: 18.8748 - val_loss: 2.0473 - val_mean_squared_error: 25.7731 - val_mean_absolute_error: 2.0473 - val_mean_absolute_percentage_error: 20.5561\n",
            "Epoch 4/10\n",
            "604/604 [==============================] - 2s 3ms/step - loss: 2.0159 - mean_squared_error: 27.9414 - mean_absolute_error: 2.0159 - mean_absolute_percentage_error: 18.1297 - val_loss: 1.9797 - val_mean_squared_error: 24.9569 - val_mean_absolute_error: 1.9797 - val_mean_absolute_percentage_error: 19.0168\n",
            "Epoch 5/10\n",
            "604/604 [==============================] - 2s 3ms/step - loss: 1.9768 - mean_squared_error: 26.8585 - mean_absolute_error: 1.9768 - mean_absolute_percentage_error: 17.8104 - val_loss: 1.9614 - val_mean_squared_error: 23.4737 - val_mean_absolute_error: 1.9614 - val_mean_absolute_percentage_error: 19.4648\n",
            "Epoch 6/10\n",
            "604/604 [==============================] - 2s 3ms/step - loss: 1.9513 - mean_squared_error: 26.3725 - mean_absolute_error: 1.9513 - mean_absolute_percentage_error: 17.6948 - val_loss: 1.9366 - val_mean_squared_error: 23.3520 - val_mean_absolute_error: 1.9366 - val_mean_absolute_percentage_error: 19.1972\n",
            "Epoch 7/10\n",
            "604/604 [==============================] - 2s 3ms/step - loss: 1.9315 - mean_squared_error: 26.0296 - mean_absolute_error: 1.9315 - mean_absolute_percentage_error: 17.5824 - val_loss: 1.9170 - val_mean_squared_error: 22.9358 - val_mean_absolute_error: 1.9170 - val_mean_absolute_percentage_error: 18.9334\n",
            "Epoch 8/10\n",
            "604/604 [==============================] - 2s 3ms/step - loss: 1.9167 - mean_squared_error: 25.8964 - mean_absolute_error: 1.9167 - mean_absolute_percentage_error: 17.5556 - val_loss: 1.9165 - val_mean_squared_error: 22.9553 - val_mean_absolute_error: 1.9165 - val_mean_absolute_percentage_error: 18.5280\n",
            "Epoch 9/10\n",
            "604/604 [==============================] - 2s 3ms/step - loss: 1.9037 - mean_squared_error: 25.4049 - mean_absolute_error: 1.9037 - mean_absolute_percentage_error: 17.3951 - val_loss: 1.9019 - val_mean_squared_error: 22.6655 - val_mean_absolute_error: 1.9019 - val_mean_absolute_percentage_error: 18.7019\n",
            "Epoch 10/10\n",
            "604/604 [==============================] - 2s 3ms/step - loss: 1.8929 - mean_squared_error: 25.2155 - mean_absolute_error: 1.8929 - mean_absolute_percentage_error: 17.3921 - val_loss: 1.8862 - val_mean_squared_error: 22.8648 - val_mean_absolute_error: 1.8862 - val_mean_absolute_percentage_error: 19.1474\n"
          ]
        }
      ],
      "source": [
        "model.compile(loss='mean_absolute_error',optimizer='SGD',metrics=['MeanSquaredError','MeanAbsoluteError','MeanAbsolutePercentageError'])\n",
        "results=model.fit(train_scaled,labels,validation_split=0.2,epochs=10,batch_size=128)"
      ]
    },
    {
      "cell_type": "code",
      "execution_count": null,
      "metadata": {
        "colab": {
          "background_save": true
        },
        "id": "OUR5imZWuYFh",
        "outputId": "ed8308ac-0558-4476-e7f6-13b6c0f3e804"
      },
      "outputs": [
        {
          "data": {
            "text/plain": [
              "[<matplotlib.lines.Line2D at 0x7f8f5d2c5150>]"
            ]
          },
          "execution_count": 54,
          "metadata": {},
          "output_type": "execute_result"
        },
        {
          "data": {
            "image/png": "[encoded data removed]",
            "text/plain": [
              "<Figure size 432x288 with 1 Axes>"
            ]
          },
          "metadata": {},
          "output_type": "display_data"
        }
      ],
      "source": [
        "plt.plot(results.history['loss'],color = \"#0000FF\")\n",
        "plt.plot(results.history['val_loss'],color = \"#FFA500\")"
      ]
    },
    {
      "cell_type": "code",
      "execution_count": null,
      "metadata": {
        "id": "EacNyqqpubty"
      },
      "outputs": [],
      "source": [
        "# Adagrad\n",
        "model.compile(loss='mean_absolute_error',optimizer='Adagrad',metrics=['MeanSquaredError','MeanAbsoluteError','MeanAbsolutePercentageError'])\n",
        "results=model.fit(train_scaled,labels,validation_split=0.2,epochs=10,batch_size=128)"
      ]
    },
    {
      "cell_type": "code",
      "execution_count": null,
      "metadata": {
        "id": "VlcCsJJBvPtF"
      },
      "outputs": [],
      "source": [
        "plt.plot(results.history['loss'],color = \"#0000FF\")\n",
        "plt.plot(results.history['val_loss'],color = \"#FFA500\")"
      ]
    },
    {
      "cell_type": "code",
      "execution_count": null,
      "metadata": {
        "id": "GLznmwnBvCtZ"
      },
      "outputs": [],
      "source": [
        "# RMSprop\n",
        "model.compile(loss='mean_absolute_error',optimizer='RMSprop',metrics=['MeanSquaredError','MeanAbsoluteError','MeanAbsolutePercentageError'])\n",
        "results=model.fit(train_scaled,labels,validation_split=0.2,epochs=10,batch_size=128)"
      ]
    },
    {
      "cell_type": "code",
      "execution_count": null,
      "metadata": {
        "id": "mnMwUv3zvQZy"
      },
      "outputs": [],
      "source": [
        "plt.plot(results.history['loss'],color = \"#0000FF\")\n",
        "plt.plot(results.history['val_loss'],color = \"#FFA500\")"
      ]
    },
    {
      "cell_type": "markdown",
      "metadata": {
        "id": "qGepG59nkKbM"
      },
      "source": []
    },
    {
      "cell_type": "code",
      "execution_count": null,
      "metadata": {
        "id": "W3N8sJ8bvWih"
      },
      "outputs": [],
      "source": [
        "from matplotlib import rcParams\n",
        "rcParams['figure.figsize'] = 10,6\n",
        "plt.plot(results.history['loss'],color = \"#0000FF\")\n",
        "plt.plot(results.history['val_loss'],color =\"#FFA500\")\n",
        "plt.legend()"
      ]
    },
    {
      "cell_type": "code",
      "execution_count": null,
      "metadata": {
        "id": "07mrrgDejBp8"
      },
      "outputs": [],
      "source": []
    }
  ],
  "metadata": {
    "accelerator": "GPU",
    "colab": {
      "provenance": [],
      "include_colab_link": true
    },
    "kernelspec": {
      "display_name": "Python 3 (ipykernel)",
      "language": "python",
      "name": "python3"
    },
    "language_info": {
      "codemirror_mode": {
        "name": "ipython",
        "version": 3
      },
      "file_extension": ".py",
      "mimetype": "text/x-python",
      "name": "python",
      "nbconvert_exporter": "python",
      "pygments_lexer": "ipython3",
      "version": "3.10.6"
    }
  },
  "nbformat": 4,
  "nbformat_minor": 0
}